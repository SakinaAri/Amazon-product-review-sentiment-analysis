{
  "cells": [
    {
      "cell_type": "markdown",
      "source": [
        "# <CENTER> IMPORTING DEPENDENCIES"
      ],
      "metadata": {
        "id": "l9S3glKg2DYN"
      }
    },
    {
      "cell_type": "code",
      "execution_count": null,
      "metadata": {
        "colab": {
          "base_uri": "https://localhost:8080/"
        },
        "id": "uwl7btKvRlab",
        "outputId": "a015b213-cc80-4c1f-fb17-60c2bd1f74e6"
      },
      "outputs": [
        {
          "output_type": "stream",
          "name": "stderr",
          "text": [
            "[nltk_data] Downloading package stopwords to /root/nltk_data...\n",
            "[nltk_data]   Unzipping corpora/stopwords.zip.\n"
          ]
        }
      ],
      "source": [
        "import nltk\n",
        "nltk.download(\"stopwords\")\n",
        "\n",
        "from nltk.corpus import stopwords\n",
        "stop = stopwords.words(\"english\")\n",
        "\n",
        "import pandas as pd\n",
        "from sklearn.utils import resample\n",
        "from sklearn.model_selection import train_test_split\n",
        "from sklearn.feature_extraction.text import TfidfVectorizer\n",
        "\n",
        "from sklearn.tree import DecisionTreeClassifier\n",
        "from sklearn.ensemble import RandomForestClassifier\n",
        "from sklearn.neighbors import KNeighborsClassifier\n",
        "from sklearn.linear_model import LogisticRegression\n",
        "from sklearn.naive_bayes import MultinomialNB\n",
        "from sklearn.pipeline import Pipeline\n",
        "from sklearn.feature_extraction.text import CountVectorizer\n",
        "from sklearn.feature_extraction.text import TfidfVectorizer\n",
        "from sklearn.metrics import classification_report, f1_score, accuracy_score, precision_score, recall_score\n",
        "from sklearn.svm import LinearSVC\n",
        "from sklearn import set_config\n",
        "from sklearn.model_selection import StratifiedKFold, cross_val_score, GridSearchCV\n",
        "import joblib\n",
        "\n",
        "set_config(display='diagram')\n",
        "\n",
        "import matplotlib.pyplot as plt"
      ]
    },
    {
      "cell_type": "markdown",
      "metadata": {
        "id": "3SvXIo589ro6"
      },
      "source": [
        "### Connecting to google drive to import files\n",
        "\n"
      ]
    },
    {
      "cell_type": "code",
      "execution_count": null,
      "metadata": {
        "colab": {
          "base_uri": "https://localhost:8080/"
        },
        "id": "-MHmriBEzxPa",
        "outputId": "428b6a78-d1a9-4d6f-c4c9-fb03b21640a2"
      },
      "outputs": [
        {
          "output_type": "stream",
          "name": "stdout",
          "text": [
            "Mounted at /content/drive\n"
          ]
        }
      ],
      "source": [
        "from google.colab import drive\n",
        "drive.mount('/content/drive')"
      ]
    },
    {
      "cell_type": "markdown",
      "source": [
        "# <center> Reading the files"
      ],
      "metadata": {
        "id": "fmKmDWZo22mD"
      }
    },
    {
      "cell_type": "code",
      "execution_count": null,
      "metadata": {
        "id": "2IZhHqq8C6Kl"
      },
      "outputs": [],
      "source": [
        "hk_sent = pd.read_csv(\"/content/drive/MyDrive/files/hk_sent_final.csv\")\n",
        "music_sent = pd.read_csv(\"/content/drive/MyDrive/files/music_sent_final.csv\")"
      ]
    },
    {
      "cell_type": "code",
      "execution_count": null,
      "metadata": {
        "colab": {
          "base_uri": "https://localhost:8080/"
        },
        "id": "FnUxlb3DR-Vm",
        "outputId": "5eb748f9-0954-4546-a063-6ba73e226f72"
      },
      "outputs": [
        {
          "output_type": "stream",
          "name": "stdout",
          "text": [
            "HOUSE AND KITCHEN DATASET SHAPE: (4252671, 7)\n"
          ]
        }
      ],
      "source": [
        "print(\"HOUSE AND KITCHEN DATASET SHAPE:\",hk_sent.shape)"
      ]
    },
    {
      "cell_type": "code",
      "execution_count": null,
      "metadata": {
        "colab": {
          "base_uri": "https://localhost:8080/"
        },
        "id": "KutaoQepSvpN",
        "outputId": "f265913e-58a1-4f61-ccd5-4b0032363644"
      },
      "outputs": [
        {
          "output_type": "stream",
          "name": "stdout",
          "text": [
            "MUSIC DATASET SHAPE: (500176, 6)\n"
          ]
        }
      ],
      "source": [
        "print(\"MUSIC DATASET SHAPE:\", music_sent.shape)"
      ]
    },
    {
      "cell_type": "code",
      "execution_count": null,
      "metadata": {
        "colab": {
          "base_uri": "https://localhost:8080/",
          "height": 354
        },
        "id": "cLv1z67X-Ok6",
        "outputId": "1e423190-f2fe-4b5d-da77-5a7c312ca4b5"
      },
      "outputs": [
        {
          "output_type": "execute_result",
          "data": {
            "text/plain": [
              "   Unnamed: 0        date                                             review  \\\n",
              "0           0  2012-10-04  have you ever thought about how you met your b...   \n",
              "1           1  2011-03-22  the butter dish is serving us well and keeping...   \n",
              "2           2  2008-06-30  i anxiously waited for the book i had pre orde...   \n",
              "3           3  2010-06-24  fantastic book a lot of good original recipes ...   \n",
              "4           4  2014-02-23  can not wait to try all the amazing techniques...   \n",
              "\n",
              "   subjectivity  polarity  Analysis  \\\n",
              "0      0.557619  0.294524  Positive   \n",
              "1      0.433333  0.200000  Positive   \n",
              "2      0.645635  0.339286  Positive   \n",
              "3      0.675000  0.625833  Positive   \n",
              "4      0.900000  0.600000  Positive   \n",
              "\n",
              "                                        preprocessed  \n",
              "0  ever thought met best friend normal wacky like...  \n",
              "1  butter dish serving u well keeping butter fres...  \n",
              "2  anxiously waited book pre ordered pic beautifu...  \n",
              "3  fantastic book lot good original recipe nicely...  \n",
              "4  wait try amazing technique browsed say book lo...  "
            ],
            "text/html": [
              "\n",
              "  <div id=\"df-a62adb2c-e9c0-49f9-91ae-fcb6230814f8\">\n",
              "    <div class=\"colab-df-container\">\n",
              "      <div>\n",
              "<style scoped>\n",
              "    .dataframe tbody tr th:only-of-type {\n",
              "        vertical-align: middle;\n",
              "    }\n",
              "\n",
              "    .dataframe tbody tr th {\n",
              "        vertical-align: top;\n",
              "    }\n",
              "\n",
              "    .dataframe thead th {\n",
              "        text-align: right;\n",
              "    }\n",
              "</style>\n",
              "<table border=\"1\" class=\"dataframe\">\n",
              "  <thead>\n",
              "    <tr style=\"text-align: right;\">\n",
              "      <th></th>\n",
              "      <th>Unnamed: 0</th>\n",
              "      <th>date</th>\n",
              "      <th>review</th>\n",
              "      <th>subjectivity</th>\n",
              "      <th>polarity</th>\n",
              "      <th>Analysis</th>\n",
              "      <th>preprocessed</th>\n",
              "    </tr>\n",
              "  </thead>\n",
              "  <tbody>\n",
              "    <tr>\n",
              "      <th>0</th>\n",
              "      <td>0</td>\n",
              "      <td>2012-10-04</td>\n",
              "      <td>have you ever thought about how you met your b...</td>\n",
              "      <td>0.557619</td>\n",
              "      <td>0.294524</td>\n",
              "      <td>Positive</td>\n",
              "      <td>ever thought met best friend normal wacky like...</td>\n",
              "    </tr>\n",
              "    <tr>\n",
              "      <th>1</th>\n",
              "      <td>1</td>\n",
              "      <td>2011-03-22</td>\n",
              "      <td>the butter dish is serving us well and keeping...</td>\n",
              "      <td>0.433333</td>\n",
              "      <td>0.200000</td>\n",
              "      <td>Positive</td>\n",
              "      <td>butter dish serving u well keeping butter fres...</td>\n",
              "    </tr>\n",
              "    <tr>\n",
              "      <th>2</th>\n",
              "      <td>2</td>\n",
              "      <td>2008-06-30</td>\n",
              "      <td>i anxiously waited for the book i had pre orde...</td>\n",
              "      <td>0.645635</td>\n",
              "      <td>0.339286</td>\n",
              "      <td>Positive</td>\n",
              "      <td>anxiously waited book pre ordered pic beautifu...</td>\n",
              "    </tr>\n",
              "    <tr>\n",
              "      <th>3</th>\n",
              "      <td>3</td>\n",
              "      <td>2010-06-24</td>\n",
              "      <td>fantastic book a lot of good original recipes ...</td>\n",
              "      <td>0.675000</td>\n",
              "      <td>0.625833</td>\n",
              "      <td>Positive</td>\n",
              "      <td>fantastic book lot good original recipe nicely...</td>\n",
              "    </tr>\n",
              "    <tr>\n",
              "      <th>4</th>\n",
              "      <td>4</td>\n",
              "      <td>2014-02-23</td>\n",
              "      <td>can not wait to try all the amazing techniques...</td>\n",
              "      <td>0.900000</td>\n",
              "      <td>0.600000</td>\n",
              "      <td>Positive</td>\n",
              "      <td>wait try amazing technique browsed say book lo...</td>\n",
              "    </tr>\n",
              "  </tbody>\n",
              "</table>\n",
              "</div>\n",
              "      <button class=\"colab-df-convert\" onclick=\"convertToInteractive('df-a62adb2c-e9c0-49f9-91ae-fcb6230814f8')\"\n",
              "              title=\"Convert this dataframe to an interactive table.\"\n",
              "              style=\"display:none;\">\n",
              "        \n",
              "  <svg xmlns=\"http://www.w3.org/2000/svg\" height=\"24px\"viewBox=\"0 0 24 24\"\n",
              "       width=\"24px\">\n",
              "    <path d=\"M0 0h24v24H0V0z\" fill=\"none\"/>\n",
              "    <path d=\"M18.56 5.44l.94 2.06.94-2.06 2.06-.94-2.06-.94-.94-2.06-.94 2.06-2.06.94zm-11 1L8.5 8.5l.94-2.06 2.06-.94-2.06-.94L8.5 2.5l-.94 2.06-2.06.94zm10 10l.94 2.06.94-2.06 2.06-.94-2.06-.94-.94-2.06-.94 2.06-2.06.94z\"/><path d=\"M17.41 7.96l-1.37-1.37c-.4-.4-.92-.59-1.43-.59-.52 0-1.04.2-1.43.59L10.3 9.45l-7.72 7.72c-.78.78-.78 2.05 0 2.83L4 21.41c.39.39.9.59 1.41.59.51 0 1.02-.2 1.41-.59l7.78-7.78 2.81-2.81c.8-.78.8-2.07 0-2.86zM5.41 20L4 18.59l7.72-7.72 1.47 1.35L5.41 20z\"/>\n",
              "  </svg>\n",
              "      </button>\n",
              "      \n",
              "  <style>\n",
              "    .colab-df-container {\n",
              "      display:flex;\n",
              "      flex-wrap:wrap;\n",
              "      gap: 12px;\n",
              "    }\n",
              "\n",
              "    .colab-df-convert {\n",
              "      background-color: #E8F0FE;\n",
              "      border: none;\n",
              "      border-radius: 50%;\n",
              "      cursor: pointer;\n",
              "      display: none;\n",
              "      fill: #1967D2;\n",
              "      height: 32px;\n",
              "      padding: 0 0 0 0;\n",
              "      width: 32px;\n",
              "    }\n",
              "\n",
              "    .colab-df-convert:hover {\n",
              "      background-color: #E2EBFA;\n",
              "      box-shadow: 0px 1px 2px rgba(60, 64, 67, 0.3), 0px 1px 3px 1px rgba(60, 64, 67, 0.15);\n",
              "      fill: #174EA6;\n",
              "    }\n",
              "\n",
              "    [theme=dark] .colab-df-convert {\n",
              "      background-color: #3B4455;\n",
              "      fill: #D2E3FC;\n",
              "    }\n",
              "\n",
              "    [theme=dark] .colab-df-convert:hover {\n",
              "      background-color: #434B5C;\n",
              "      box-shadow: 0px 1px 3px 1px rgba(0, 0, 0, 0.15);\n",
              "      filter: drop-shadow(0px 1px 2px rgba(0, 0, 0, 0.3));\n",
              "      fill: #FFFFFF;\n",
              "    }\n",
              "  </style>\n",
              "\n",
              "      <script>\n",
              "        const buttonEl =\n",
              "          document.querySelector('#df-a62adb2c-e9c0-49f9-91ae-fcb6230814f8 button.colab-df-convert');\n",
              "        buttonEl.style.display =\n",
              "          google.colab.kernel.accessAllowed ? 'block' : 'none';\n",
              "\n",
              "        async function convertToInteractive(key) {\n",
              "          const element = document.querySelector('#df-a62adb2c-e9c0-49f9-91ae-fcb6230814f8');\n",
              "          const dataTable =\n",
              "            await google.colab.kernel.invokeFunction('convertToInteractive',\n",
              "                                                     [key], {});\n",
              "          if (!dataTable) return;\n",
              "\n",
              "          const docLinkHtml = 'Like what you see? Visit the ' +\n",
              "            '<a target=\"_blank\" href=https://colab.research.google.com/notebooks/data_table.ipynb>data table notebook</a>'\n",
              "            + ' to learn more about interactive tables.';\n",
              "          element.innerHTML = '';\n",
              "          dataTable['output_type'] = 'display_data';\n",
              "          await google.colab.output.renderOutput(dataTable, element);\n",
              "          const docLink = document.createElement('div');\n",
              "          docLink.innerHTML = docLinkHtml;\n",
              "          element.appendChild(docLink);\n",
              "        }\n",
              "      </script>\n",
              "    </div>\n",
              "  </div>\n",
              "  "
            ]
          },
          "metadata": {},
          "execution_count": 6
        }
      ],
      "source": [
        "hk_sent.head()"
      ]
    },
    {
      "cell_type": "code",
      "execution_count": null,
      "metadata": {
        "id": "XjExk2Zz99cM"
      },
      "outputs": [],
      "source": [
        "hk_sent.drop('Unnamed: 0', axis=1, inplace=True)"
      ]
    },
    {
      "cell_type": "code",
      "execution_count": null,
      "metadata": {
        "colab": {
          "base_uri": "https://localhost:8080/",
          "height": 250
        },
        "id": "009bR3A9-A34",
        "outputId": "6ea82b28-0615-4038-fa76-1cf9ecfd4fd9"
      },
      "outputs": [
        {
          "output_type": "execute_result",
          "data": {
            "text/plain": [
              "         date                                             review  \\\n",
              "0  11-03-2014  the portfolio is fine except for the fact that...   \n",
              "1  06-06-2013  if you are a serious violin student on a budge...   \n",
              "2  14-10-2013  this is and excellent edition and perfectly tr...   \n",
              "3  23-09-2010  perfect for someone who is an opera fan or a w...   \n",
              "4  17-10-2012  how many nocturnes does it contain all of them...   \n",
              "\n",
              "                                        preprocessed  subjectivity  polarity  \\\n",
              "0  portfolio fine except fact last movement sonat...      0.205556  0.072222   \n",
              "1  serious violin student budget edition piano ac...      0.610185  0.209259   \n",
              "2  excellent edition perfectly true orchestral ve...      0.712500  0.662500   \n",
              "3  perfect someone opera fan working musicianaida...      0.388889  0.261111   \n",
              "4  many nocturne contain someunable determnine co...      0.520833  0.104167   \n",
              "\n",
              "   Analysis  \n",
              "0  Positive  \n",
              "1  Positive  \n",
              "2  Positive  \n",
              "3  Positive  \n",
              "4  Positive  "
            ],
            "text/html": [
              "\n",
              "  <div id=\"df-13c6e6b8-e378-4a2a-9b09-a1e452019fa2\">\n",
              "    <div class=\"colab-df-container\">\n",
              "      <div>\n",
              "<style scoped>\n",
              "    .dataframe tbody tr th:only-of-type {\n",
              "        vertical-align: middle;\n",
              "    }\n",
              "\n",
              "    .dataframe tbody tr th {\n",
              "        vertical-align: top;\n",
              "    }\n",
              "\n",
              "    .dataframe thead th {\n",
              "        text-align: right;\n",
              "    }\n",
              "</style>\n",
              "<table border=\"1\" class=\"dataframe\">\n",
              "  <thead>\n",
              "    <tr style=\"text-align: right;\">\n",
              "      <th></th>\n",
              "      <th>date</th>\n",
              "      <th>review</th>\n",
              "      <th>preprocessed</th>\n",
              "      <th>subjectivity</th>\n",
              "      <th>polarity</th>\n",
              "      <th>Analysis</th>\n",
              "    </tr>\n",
              "  </thead>\n",
              "  <tbody>\n",
              "    <tr>\n",
              "      <th>0</th>\n",
              "      <td>11-03-2014</td>\n",
              "      <td>the portfolio is fine except for the fact that...</td>\n",
              "      <td>portfolio fine except fact last movement sonat...</td>\n",
              "      <td>0.205556</td>\n",
              "      <td>0.072222</td>\n",
              "      <td>Positive</td>\n",
              "    </tr>\n",
              "    <tr>\n",
              "      <th>1</th>\n",
              "      <td>06-06-2013</td>\n",
              "      <td>if you are a serious violin student on a budge...</td>\n",
              "      <td>serious violin student budget edition piano ac...</td>\n",
              "      <td>0.610185</td>\n",
              "      <td>0.209259</td>\n",
              "      <td>Positive</td>\n",
              "    </tr>\n",
              "    <tr>\n",
              "      <th>2</th>\n",
              "      <td>14-10-2013</td>\n",
              "      <td>this is and excellent edition and perfectly tr...</td>\n",
              "      <td>excellent edition perfectly true orchestral ve...</td>\n",
              "      <td>0.712500</td>\n",
              "      <td>0.662500</td>\n",
              "      <td>Positive</td>\n",
              "    </tr>\n",
              "    <tr>\n",
              "      <th>3</th>\n",
              "      <td>23-09-2010</td>\n",
              "      <td>perfect for someone who is an opera fan or a w...</td>\n",
              "      <td>perfect someone opera fan working musicianaida...</td>\n",
              "      <td>0.388889</td>\n",
              "      <td>0.261111</td>\n",
              "      <td>Positive</td>\n",
              "    </tr>\n",
              "    <tr>\n",
              "      <th>4</th>\n",
              "      <td>17-10-2012</td>\n",
              "      <td>how many nocturnes does it contain all of them...</td>\n",
              "      <td>many nocturne contain someunable determnine co...</td>\n",
              "      <td>0.520833</td>\n",
              "      <td>0.104167</td>\n",
              "      <td>Positive</td>\n",
              "    </tr>\n",
              "  </tbody>\n",
              "</table>\n",
              "</div>\n",
              "      <button class=\"colab-df-convert\" onclick=\"convertToInteractive('df-13c6e6b8-e378-4a2a-9b09-a1e452019fa2')\"\n",
              "              title=\"Convert this dataframe to an interactive table.\"\n",
              "              style=\"display:none;\">\n",
              "        \n",
              "  <svg xmlns=\"http://www.w3.org/2000/svg\" height=\"24px\"viewBox=\"0 0 24 24\"\n",
              "       width=\"24px\">\n",
              "    <path d=\"M0 0h24v24H0V0z\" fill=\"none\"/>\n",
              "    <path d=\"M18.56 5.44l.94 2.06.94-2.06 2.06-.94-2.06-.94-.94-2.06-.94 2.06-2.06.94zm-11 1L8.5 8.5l.94-2.06 2.06-.94-2.06-.94L8.5 2.5l-.94 2.06-2.06.94zm10 10l.94 2.06.94-2.06 2.06-.94-2.06-.94-.94-2.06-.94 2.06-2.06.94z\"/><path d=\"M17.41 7.96l-1.37-1.37c-.4-.4-.92-.59-1.43-.59-.52 0-1.04.2-1.43.59L10.3 9.45l-7.72 7.72c-.78.78-.78 2.05 0 2.83L4 21.41c.39.39.9.59 1.41.59.51 0 1.02-.2 1.41-.59l7.78-7.78 2.81-2.81c.8-.78.8-2.07 0-2.86zM5.41 20L4 18.59l7.72-7.72 1.47 1.35L5.41 20z\"/>\n",
              "  </svg>\n",
              "      </button>\n",
              "      \n",
              "  <style>\n",
              "    .colab-df-container {\n",
              "      display:flex;\n",
              "      flex-wrap:wrap;\n",
              "      gap: 12px;\n",
              "    }\n",
              "\n",
              "    .colab-df-convert {\n",
              "      background-color: #E8F0FE;\n",
              "      border: none;\n",
              "      border-radius: 50%;\n",
              "      cursor: pointer;\n",
              "      display: none;\n",
              "      fill: #1967D2;\n",
              "      height: 32px;\n",
              "      padding: 0 0 0 0;\n",
              "      width: 32px;\n",
              "    }\n",
              "\n",
              "    .colab-df-convert:hover {\n",
              "      background-color: #E2EBFA;\n",
              "      box-shadow: 0px 1px 2px rgba(60, 64, 67, 0.3), 0px 1px 3px 1px rgba(60, 64, 67, 0.15);\n",
              "      fill: #174EA6;\n",
              "    }\n",
              "\n",
              "    [theme=dark] .colab-df-convert {\n",
              "      background-color: #3B4455;\n",
              "      fill: #D2E3FC;\n",
              "    }\n",
              "\n",
              "    [theme=dark] .colab-df-convert:hover {\n",
              "      background-color: #434B5C;\n",
              "      box-shadow: 0px 1px 3px 1px rgba(0, 0, 0, 0.15);\n",
              "      filter: drop-shadow(0px 1px 2px rgba(0, 0, 0, 0.3));\n",
              "      fill: #FFFFFF;\n",
              "    }\n",
              "  </style>\n",
              "\n",
              "      <script>\n",
              "        const buttonEl =\n",
              "          document.querySelector('#df-13c6e6b8-e378-4a2a-9b09-a1e452019fa2 button.colab-df-convert');\n",
              "        buttonEl.style.display =\n",
              "          google.colab.kernel.accessAllowed ? 'block' : 'none';\n",
              "\n",
              "        async function convertToInteractive(key) {\n",
              "          const element = document.querySelector('#df-13c6e6b8-e378-4a2a-9b09-a1e452019fa2');\n",
              "          const dataTable =\n",
              "            await google.colab.kernel.invokeFunction('convertToInteractive',\n",
              "                                                     [key], {});\n",
              "          if (!dataTable) return;\n",
              "\n",
              "          const docLinkHtml = 'Like what you see? Visit the ' +\n",
              "            '<a target=\"_blank\" href=https://colab.research.google.com/notebooks/data_table.ipynb>data table notebook</a>'\n",
              "            + ' to learn more about interactive tables.';\n",
              "          element.innerHTML = '';\n",
              "          dataTable['output_type'] = 'display_data';\n",
              "          await google.colab.output.renderOutput(dataTable, element);\n",
              "          const docLink = document.createElement('div');\n",
              "          docLink.innerHTML = docLinkHtml;\n",
              "          element.appendChild(docLink);\n",
              "        }\n",
              "      </script>\n",
              "    </div>\n",
              "  </div>\n",
              "  "
            ]
          },
          "metadata": {},
          "execution_count": 8
        }
      ],
      "source": [
        "music_sent.head()"
      ]
    },
    {
      "cell_type": "code",
      "execution_count": null,
      "metadata": {
        "colab": {
          "base_uri": "https://localhost:8080/"
        },
        "id": "UyNOnjgHSdi5",
        "outputId": "340b7eb6-8b0b-44d8-f20a-d4ca190bb938"
      },
      "outputs": [
        {
          "output_type": "execute_result",
          "data": {
            "text/plain": [
              "date              0\n",
              "review            0\n",
              "subjectivity      0\n",
              "polarity          0\n",
              "Analysis          0\n",
              "preprocessed    117\n",
              "dtype: int64"
            ]
          },
          "metadata": {},
          "execution_count": 9
        }
      ],
      "source": [
        "hk_sent.isnull().sum()"
      ]
    },
    {
      "cell_type": "code",
      "execution_count": null,
      "metadata": {
        "colab": {
          "base_uri": "https://localhost:8080/"
        },
        "id": "pERxe49rS0GI",
        "outputId": "4af92314-0bae-44a1-b22e-2d3607dff028"
      },
      "outputs": [
        {
          "output_type": "execute_result",
          "data": {
            "text/plain": [
              "date              0\n",
              "review          453\n",
              "preprocessed    470\n",
              "subjectivity      0\n",
              "polarity          0\n",
              "Analysis          0\n",
              "dtype: int64"
            ]
          },
          "metadata": {},
          "execution_count": 10
        }
      ],
      "source": [
        "music_sent.isnull().sum()"
      ]
    },
    {
      "cell_type": "code",
      "execution_count": null,
      "metadata": {
        "id": "PGmrWsvhS6tL"
      },
      "outputs": [],
      "source": [
        "hk_sent.dropna(inplace = True)"
      ]
    },
    {
      "cell_type": "code",
      "execution_count": null,
      "metadata": {
        "id": "eKrLP9bnusXT"
      },
      "outputs": [],
      "source": [
        "music_sent.dropna(inplace = True)"
      ]
    },
    {
      "cell_type": "markdown",
      "metadata": {
        "id": "WTWDlbeh6ibX"
      },
      "source": [
        "# <CENTER> AMAZON REVIEWS ANALYSIS - MUSICAL INSTRUMENTS"
      ]
    },
    {
      "cell_type": "code",
      "execution_count": null,
      "metadata": {
        "id": "E8RsHVtxToIt"
      },
      "outputs": [],
      "source": [
        "#SAMPLING THE DATA INTO A BALANCED DATASET "
      ]
    },
    {
      "cell_type": "code",
      "execution_count": null,
      "metadata": {
        "id": "BpBuu5hPSrC-"
      },
      "outputs": [],
      "source": [
        "# Separate majority and minority classes\n",
        "music_pos = music_sent[music_sent['Analysis']=='Positive']\n",
        "music_neu = music_sent[music_sent['Analysis']=='Neutral']\n",
        "music_neg = music_sent[music_sent['Analysis']=='Negative']\n",
        " \n",
        "\n",
        "df_music_pos = resample(music_pos, \n",
        "                                 replace=False,    \n",
        "                                 n_samples=35000)\n",
        "\n",
        "df_music_neu = resample(music_neu, \n",
        "                                 replace=True,     \n",
        "                                 n_samples=35000)\n",
        "\n",
        "df_music_neg = resample(music_neg, \n",
        "                        replace=True, n_samples=35000)\n",
        "\n",
        "# Combine minority class with downsampled majority class\n",
        "music_df = pd.concat([df_music_pos, df_music_neu,df_music_neg])"
      ]
    },
    {
      "cell_type": "code",
      "execution_count": null,
      "metadata": {
        "colab": {
          "base_uri": "https://localhost:8080/"
        },
        "id": "efvr8ZSESq7j",
        "outputId": "82b6b731-5bb1-4a0e-a3aa-5f2b730c10a3"
      },
      "outputs": [
        {
          "output_type": "execute_result",
          "data": {
            "text/plain": [
              "(105000, 6)"
            ]
          },
          "metadata": {},
          "execution_count": 8
        }
      ],
      "source": [
        "music_df.shape"
      ]
    },
    {
      "cell_type": "markdown",
      "source": [
        "# <center> SPLITING THE DATASET INTO TRAIN AND TEST"
      ],
      "metadata": {
        "id": "nev20iva4Dce"
      }
    },
    {
      "cell_type": "code",
      "execution_count": null,
      "metadata": {
        "id": "-EcxdKC6xySS"
      },
      "outputs": [],
      "source": [
        "X = music_df[\"preprocessed\"]\n",
        "y = music_df[\"Analysis\"]"
      ]
    },
    {
      "cell_type": "code",
      "execution_count": null,
      "metadata": {
        "id": "yimCUYO7u3F5"
      },
      "outputs": [],
      "source": [
        "X_train, X_test, y_train, y_test = train_test_split(X,y,test_size = 0.2,random_state = 42)"
      ]
    },
    {
      "cell_type": "markdown",
      "source": [
        "# <center> Pipeline Model"
      ],
      "metadata": {
        "id": "ttZKetbZZDyw"
      }
    },
    {
      "cell_type": "code",
      "source": [
        "f1_list = []\n",
        "recall_list = []\n",
        "precision_list = []\n",
        "train_accuracy_list = []\n",
        "test_accuracy_list = []\n",
        "\n",
        "def f1_score1(precision,recall):\n",
        "  f1 = 2*(precision * recall)/(precision + recall)\n",
        "  return f1"
      ],
      "metadata": {
        "id": "8rZcx-0LaUog"
      },
      "execution_count": null,
      "outputs": []
    },
    {
      "cell_type": "code",
      "source": [
        "def evaluation(pipeline):\n",
        "  pipeline = pipeline.fit(X_train, y_train)\n",
        "  global accuracy_train, accuracy_test, precision1, recall1, f1_score, y_pred_test, y_pred_train\n",
        "  \n",
        "  y_pred_train = pipeline.predict(X_train)\n",
        "  y_pred_test = pipeline.predict(X_test)\n",
        "\n",
        "  accuracy_train=accuracy_score(y_train, y_pred_train)\n",
        "  accuracy_test=accuracy_score(y_test, y_pred_test)\n",
        "  precision1 = precision_score(y_test, y_pred_test,average=\"weighted\")\n",
        "  recall1 = recall_score(y_test, y_pred_test,average=\"weighted\")\n",
        "  f1_score2 = f1_score1(precision1, recall1)\n",
        "\n",
        "  print('Accuracy on train %f' %accuracy_train)\n",
        "  print('Accuracy on test %f' %accuracy_test)\n",
        "  print(\"F1 Score\", f1_score2)\n",
        "  print(\"Precision Score\", precision1)\n",
        "  print(\"Recall Score\", recall1)\n",
        "\n",
        "  f1_list.append(f1_score2)\n",
        "  precision_list.append(precision1)\n",
        "  recall_list.append(recall1)\n",
        "  train_accuracy_list.append(accuracy_train)\n",
        "  test_accuracy_list.append(accuracy_test)"
      ],
      "metadata": {
        "id": "5_Q2RErk_kO6"
      },
      "execution_count": null,
      "outputs": []
    },
    {
      "cell_type": "markdown",
      "source": [
        "# <CENTER> LOGISTIC REGRESSION"
      ],
      "metadata": {
        "id": "Q8GGgiDXIE7T"
      }
    },
    {
      "cell_type": "code",
      "source": [
        "pipeline_lr_cv = Pipeline([\n",
        "    ('vect', CountVectorizer(analyzer='word', ngram_range=(1, 2))),\n",
        "    ('clf', LogisticRegression(max_iter=500,random_state=40,solver='newton-cg',multi_class=\"ovr\")),\n",
        "])\n",
        "\n",
        "evaluation(pipeline_lr_cv)"
      ],
      "metadata": {
        "id": "N4VBdfx0ZLOT",
        "colab": {
          "base_uri": "https://localhost:8080/"
        },
        "outputId": "94b69e17-7e60-4eae-cfd9-c799a0968456"
      },
      "execution_count": null,
      "outputs": [
        {
          "output_type": "stream",
          "name": "stdout",
          "text": [
            "Accuracy on train 0.999071\n",
            "Accuracy on test 0.930000\n",
            "F1 Score 0.9306665045714567\n",
            "Precision Score 0.9313339651578336\n",
            "Recall Score 0.93\n"
          ]
        }
      ]
    },
    {
      "cell_type": "code",
      "source": [
        "pipeline_lr_tfidf = Pipeline([\n",
        "    ('vect', TfidfVectorizer(analyzer='word', ngram_range=(1, 2))),\n",
        "    ('pipeline_lr_tfidf', LogisticRegression(max_iter=500,random_state=40,solver='newton-cg',multi_class=\"ovr\")),\n",
        "])\n",
        "\n",
        "evaluation(pipeline_lr_tfidf)"
      ],
      "metadata": {
        "id": "BEKqHDZZZLRS",
        "colab": {
          "base_uri": "https://localhost:8080/"
        },
        "outputId": "5d6c6977-e544-4070-8448-f59c4b8fce0b"
      },
      "execution_count": null,
      "outputs": [
        {
          "output_type": "stream",
          "name": "stdout",
          "text": [
            "Accuracy on train 0.951143\n",
            "Accuracy on test 0.908381\n",
            "F1 Score 0.9084284547228457\n",
            "Precision Score 0.9084759620331183\n",
            "Recall Score 0.9083809523809524\n"
          ]
        }
      ]
    },
    {
      "cell_type": "markdown",
      "source": [
        "# <CENTER> DECISION TREE CLASSIFIER"
      ],
      "metadata": {
        "id": "otZY0nd4IMDe"
      }
    },
    {
      "cell_type": "code",
      "source": [
        "pipeline_dt_cv = Pipeline([\n",
        "    ('vect', CountVectorizer(analyzer='word', ngram_range=(1, 2))),\n",
        "    ('pipeline_dt_cv', DecisionTreeClassifier(criterion= \"entropy\")),\n",
        "])\n",
        "\n",
        "evaluation(pipeline_dt_cv)"
      ],
      "metadata": {
        "id": "grHmZIXNZLXa",
        "colab": {
          "base_uri": "https://localhost:8080/"
        },
        "outputId": "94244c40-5a5c-4f42-cd52-4ca609e24af8"
      },
      "execution_count": null,
      "outputs": [
        {
          "output_type": "stream",
          "name": "stdout",
          "text": [
            "Accuracy on train 0.999964\n",
            "Accuracy on test 0.896000\n",
            "F1 Score 0.8956872745285487\n",
            "Precision Score 0.8953747672782999\n",
            "Recall Score 0.896\n"
          ]
        }
      ]
    },
    {
      "cell_type": "code",
      "source": [
        "pipeline_dt_tfidf = Pipeline([\n",
        "    ('vect',TfidfVectorizer(analyzer='word', ngram_range=(1, 2))),\n",
        "    ('pipeline_dt_tfidf', DecisionTreeClassifier()),\n",
        "])\n",
        "\n",
        "evaluation(pipeline_dt_tfidf)"
      ],
      "metadata": {
        "id": "jBBKg-3bZLaY",
        "colab": {
          "base_uri": "https://localhost:8080/"
        },
        "outputId": "a9ddcc3a-cfc1-4d20-d0aa-df26243f18f0"
      },
      "execution_count": null,
      "outputs": [
        {
          "output_type": "stream",
          "name": "stdout",
          "text": [
            "Accuracy on train 0.999964\n",
            "Accuracy on test 0.888333\n",
            "F1 Score 0.8883048320035032\n",
            "Precision Score 0.8882763325024904\n",
            "Recall Score 0.8883333333333333\n"
          ]
        }
      ]
    },
    {
      "cell_type": "markdown",
      "source": [
        "# <CENTER> MULTINOMIAL NAIVE BAYES "
      ],
      "metadata": {
        "id": "pGJPgbC6ITRh"
      }
    },
    {
      "cell_type": "code",
      "source": [
        "pipeline_mul_cv = Pipeline([\n",
        "    ('vect', CountVectorizer(analyzer='word', ngram_range=(1, 2))),\n",
        "    ('clf', MultinomialNB()),\n",
        "])\n",
        "\n",
        "evaluation(pipeline_mul_cv)\n"
      ],
      "metadata": {
        "id": "wgCj8OfJZLdg",
        "colab": {
          "base_uri": "https://localhost:8080/"
        },
        "outputId": "08e11d06-354d-4db3-b795-7b9cc75a4218"
      },
      "execution_count": null,
      "outputs": [
        {
          "output_type": "stream",
          "name": "stdout",
          "text": [
            "Accuracy on train 0.961083\n",
            "Accuracy on test 0.848000\n",
            "F1 Score 0.8543401603870859\n",
            "Precision Score 0.8607758406786323\n",
            "Recall Score 0.848\n"
          ]
        }
      ]
    },
    {
      "cell_type": "code",
      "source": [
        "pipeline_mul_tfidf = Pipeline([\n",
        "    ('vect', TfidfVectorizer(analyzer='word', ngram_range=(1, 2))),\n",
        "    ('clf', MultinomialNB()),\n",
        "])\n",
        "\n",
        "evaluation(pipeline_mul_tfidf)"
      ],
      "metadata": {
        "id": "GKX-u5tsgZYN",
        "colab": {
          "base_uri": "https://localhost:8080/"
        },
        "outputId": "8389391f-fba7-4c58-98ad-c3ff9fb2b902"
      },
      "execution_count": null,
      "outputs": [
        {
          "output_type": "stream",
          "name": "stdout",
          "text": [
            "Accuracy on train 0.964429\n",
            "Accuracy on test 0.860667\n",
            "F1 Score 0.8654341919202484\n",
            "Precision Score 0.8702548292660005\n",
            "Recall Score 0.8606666666666667\n"
          ]
        }
      ]
    },
    {
      "cell_type": "markdown",
      "source": [
        "# <center> SUPPORT VECTOR CLASSIFIER"
      ],
      "metadata": {
        "id": "b7g633N0Iia4"
      }
    },
    {
      "cell_type": "code",
      "source": [
        "pipeline_svc_cv = Pipeline([\n",
        "    ('vect', CountVectorizer()),\n",
        "    ('pipeline_svc_cv',LinearSVC()),\n",
        "])\n",
        "\n",
        "evaluation(pipeline_svc_cv)"
      ],
      "metadata": {
        "id": "2Umd6gTxg2Pa",
        "colab": {
          "base_uri": "https://localhost:8080/"
        },
        "outputId": "2af4ddc5-0572-48dd-94ea-33dcdd96f662"
      },
      "execution_count": null,
      "outputs": [
        {
          "output_type": "stream",
          "name": "stderr",
          "text": [
            "/usr/local/lib/python3.8/dist-packages/sklearn/svm/_base.py:1206: ConvergenceWarning: Liblinear failed to converge, increase the number of iterations.\n",
            "  warnings.warn(\n"
          ]
        },
        {
          "output_type": "stream",
          "name": "stdout",
          "text": [
            "Accuracy on train 0.981952\n",
            "Accuracy on test 0.916524\n",
            "F1 Score 0.9167509598858083\n",
            "Precision Score 0.9169782228691651\n",
            "Recall Score 0.9165238095238095\n"
          ]
        }
      ]
    },
    {
      "cell_type": "code",
      "source": [
        "pipeline_svc_tfidf = Pipeline([\n",
        "    ('vect',TfidfVectorizer()),\n",
        "    ('pipeline_svc_tfidf',LinearSVC()),\n",
        "])\n",
        "\n",
        "evaluation(pipeline_svc_tfidf)"
      ],
      "metadata": {
        "id": "AT7_1Frfg2Th",
        "colab": {
          "base_uri": "https://localhost:8080/"
        },
        "outputId": "6556f596-c931-4d56-dbab-3b0830100557"
      },
      "execution_count": null,
      "outputs": [
        {
          "output_type": "stream",
          "name": "stdout",
          "text": [
            "Accuracy on train 0.964381\n",
            "Accuracy on test 0.916095\n",
            "F1 Score 0.9163969759392585\n",
            "Precision Score 0.9166989126178996\n",
            "Recall Score 0.9160952380952381\n"
          ]
        }
      ]
    },
    {
      "cell_type": "code",
      "source": [
        "pipe_dict = {0:'Logistic Regression - CV', \n",
        "             1:'Logistic Regression - TFIDF', \n",
        "             2:'Decision Tree Classifier - CV', \n",
        "             3:'Decision Tree Classifier - TFIDF', \n",
        "             4:'Multinomial Naive Bayes - CV', \n",
        "             5:'Multinomial Naive Bayes - TFIDF',\n",
        "             6:'Linear SVC - CV', \n",
        "             7:'Linear SVC - TFIDF'}"
      ],
      "metadata": {
        "id": "tEaOKPPJg2Xf"
      },
      "execution_count": null,
      "outputs": []
    },
    {
      "cell_type": "code",
      "source": [
        "final_df = pd.DataFrame(zip(pipe_dict.values(), train_accuracy_list, test_accuracy_list, f1_list, precision_list, recall_list),\n",
        "                        columns=['Classifier', 'Train Score', 'Test Score','F1 Score', 'Precision Scores', 'Recall Scores'])"
      ],
      "metadata": {
        "id": "mDu4gZQ2d55L"
      },
      "execution_count": null,
      "outputs": []
    },
    {
      "cell_type": "code",
      "source": [
        "final_df"
      ],
      "metadata": {
        "colab": {
          "base_uri": "https://localhost:8080/",
          "height": 300
        },
        "id": "JqpxAYfstUGX",
        "outputId": "3ecb2c62-b941-4ff2-97b6-0eaedd910c28"
      },
      "execution_count": null,
      "outputs": [
        {
          "output_type": "execute_result",
          "data": {
            "text/plain": [
              "                         Classifier  Train Score  Test Score  F1 Score  \\\n",
              "0          Logistic Regression - CV     0.999333    0.933762  0.934196   \n",
              "1       Logistic Regression - TFIDF     0.951143    0.908381  0.908428   \n",
              "2     Decision Tree Classifier - CV     0.999964    0.896000  0.895687   \n",
              "3  Decision Tree Classifier - TFIDF     0.999964    0.888333  0.888305   \n",
              "4      Multinomial Naive Bayes - CV     0.961083    0.848000  0.854340   \n",
              "5   Multinomial Naive Bayes - TFIDF     0.964429    0.860667  0.865434   \n",
              "6                   Linear SVC - CV     0.982060    0.923667  0.923762   \n",
              "7                Linear SVC - TFIDF     0.964381    0.916095  0.916397   \n",
              "\n",
              "   Precision Scores  Recall Scores  \n",
              "0          0.934630       0.933762  \n",
              "1          0.908476       0.908381  \n",
              "2          0.895375       0.896000  \n",
              "3          0.888276       0.888333  \n",
              "4          0.860776       0.848000  \n",
              "5          0.870255       0.860667  \n",
              "6          0.923857       0.923667  \n",
              "7          0.916699       0.916095  "
            ],
            "text/html": [
              "\n",
              "  <div id=\"df-59bc2afb-6bb2-4303-a99d-c2ad2b8aedf4\">\n",
              "    <div class=\"colab-df-container\">\n",
              "      <div>\n",
              "<style scoped>\n",
              "    .dataframe tbody tr th:only-of-type {\n",
              "        vertical-align: middle;\n",
              "    }\n",
              "\n",
              "    .dataframe tbody tr th {\n",
              "        vertical-align: top;\n",
              "    }\n",
              "\n",
              "    .dataframe thead th {\n",
              "        text-align: right;\n",
              "    }\n",
              "</style>\n",
              "<table border=\"1\" class=\"dataframe\">\n",
              "  <thead>\n",
              "    <tr style=\"text-align: right;\">\n",
              "      <th></th>\n",
              "      <th>Classifier</th>\n",
              "      <th>Train Score</th>\n",
              "      <th>Test Score</th>\n",
              "      <th>F1 Score</th>\n",
              "      <th>Precision Scores</th>\n",
              "      <th>Recall Scores</th>\n",
              "    </tr>\n",
              "  </thead>\n",
              "  <tbody>\n",
              "    <tr>\n",
              "      <th>0</th>\n",
              "      <td>Logistic Regression - CV</td>\n",
              "      <td>0.999333</td>\n",
              "      <td>0.933762</td>\n",
              "      <td>0.934196</td>\n",
              "      <td>0.934630</td>\n",
              "      <td>0.933762</td>\n",
              "    </tr>\n",
              "    <tr>\n",
              "      <th>1</th>\n",
              "      <td>Logistic Regression - TFIDF</td>\n",
              "      <td>0.951143</td>\n",
              "      <td>0.908381</td>\n",
              "      <td>0.908428</td>\n",
              "      <td>0.908476</td>\n",
              "      <td>0.908381</td>\n",
              "    </tr>\n",
              "    <tr>\n",
              "      <th>2</th>\n",
              "      <td>Decision Tree Classifier - CV</td>\n",
              "      <td>0.999964</td>\n",
              "      <td>0.896000</td>\n",
              "      <td>0.895687</td>\n",
              "      <td>0.895375</td>\n",
              "      <td>0.896000</td>\n",
              "    </tr>\n",
              "    <tr>\n",
              "      <th>3</th>\n",
              "      <td>Decision Tree Classifier - TFIDF</td>\n",
              "      <td>0.999964</td>\n",
              "      <td>0.888333</td>\n",
              "      <td>0.888305</td>\n",
              "      <td>0.888276</td>\n",
              "      <td>0.888333</td>\n",
              "    </tr>\n",
              "    <tr>\n",
              "      <th>4</th>\n",
              "      <td>Multinomial Naive Bayes - CV</td>\n",
              "      <td>0.961083</td>\n",
              "      <td>0.848000</td>\n",
              "      <td>0.854340</td>\n",
              "      <td>0.860776</td>\n",
              "      <td>0.848000</td>\n",
              "    </tr>\n",
              "    <tr>\n",
              "      <th>5</th>\n",
              "      <td>Multinomial Naive Bayes - TFIDF</td>\n",
              "      <td>0.964429</td>\n",
              "      <td>0.860667</td>\n",
              "      <td>0.865434</td>\n",
              "      <td>0.870255</td>\n",
              "      <td>0.860667</td>\n",
              "    </tr>\n",
              "    <tr>\n",
              "      <th>6</th>\n",
              "      <td>Linear SVC - CV</td>\n",
              "      <td>0.982060</td>\n",
              "      <td>0.923667</td>\n",
              "      <td>0.923762</td>\n",
              "      <td>0.923857</td>\n",
              "      <td>0.923667</td>\n",
              "    </tr>\n",
              "    <tr>\n",
              "      <th>7</th>\n",
              "      <td>Linear SVC - TFIDF</td>\n",
              "      <td>0.964381</td>\n",
              "      <td>0.916095</td>\n",
              "      <td>0.916397</td>\n",
              "      <td>0.916699</td>\n",
              "      <td>0.916095</td>\n",
              "    </tr>\n",
              "  </tbody>\n",
              "</table>\n",
              "</div>\n",
              "      <button class=\"colab-df-convert\" onclick=\"convertToInteractive('df-59bc2afb-6bb2-4303-a99d-c2ad2b8aedf4')\"\n",
              "              title=\"Convert this dataframe to an interactive table.\"\n",
              "              style=\"display:none;\">\n",
              "        \n",
              "  <svg xmlns=\"http://www.w3.org/2000/svg\" height=\"24px\"viewBox=\"0 0 24 24\"\n",
              "       width=\"24px\">\n",
              "    <path d=\"M0 0h24v24H0V0z\" fill=\"none\"/>\n",
              "    <path d=\"M18.56 5.44l.94 2.06.94-2.06 2.06-.94-2.06-.94-.94-2.06-.94 2.06-2.06.94zm-11 1L8.5 8.5l.94-2.06 2.06-.94-2.06-.94L8.5 2.5l-.94 2.06-2.06.94zm10 10l.94 2.06.94-2.06 2.06-.94-2.06-.94-.94-2.06-.94 2.06-2.06.94z\"/><path d=\"M17.41 7.96l-1.37-1.37c-.4-.4-.92-.59-1.43-.59-.52 0-1.04.2-1.43.59L10.3 9.45l-7.72 7.72c-.78.78-.78 2.05 0 2.83L4 21.41c.39.39.9.59 1.41.59.51 0 1.02-.2 1.41-.59l7.78-7.78 2.81-2.81c.8-.78.8-2.07 0-2.86zM5.41 20L4 18.59l7.72-7.72 1.47 1.35L5.41 20z\"/>\n",
              "  </svg>\n",
              "      </button>\n",
              "      \n",
              "  <style>\n",
              "    .colab-df-container {\n",
              "      display:flex;\n",
              "      flex-wrap:wrap;\n",
              "      gap: 12px;\n",
              "    }\n",
              "\n",
              "    .colab-df-convert {\n",
              "      background-color: #E8F0FE;\n",
              "      border: none;\n",
              "      border-radius: 50%;\n",
              "      cursor: pointer;\n",
              "      display: none;\n",
              "      fill: #1967D2;\n",
              "      height: 32px;\n",
              "      padding: 0 0 0 0;\n",
              "      width: 32px;\n",
              "    }\n",
              "\n",
              "    .colab-df-convert:hover {\n",
              "      background-color: #E2EBFA;\n",
              "      box-shadow: 0px 1px 2px rgba(60, 64, 67, 0.3), 0px 1px 3px 1px rgba(60, 64, 67, 0.15);\n",
              "      fill: #174EA6;\n",
              "    }\n",
              "\n",
              "    [theme=dark] .colab-df-convert {\n",
              "      background-color: #3B4455;\n",
              "      fill: #D2E3FC;\n",
              "    }\n",
              "\n",
              "    [theme=dark] .colab-df-convert:hover {\n",
              "      background-color: #434B5C;\n",
              "      box-shadow: 0px 1px 3px 1px rgba(0, 0, 0, 0.15);\n",
              "      filter: drop-shadow(0px 1px 2px rgba(0, 0, 0, 0.3));\n",
              "      fill: #FFFFFF;\n",
              "    }\n",
              "  </style>\n",
              "\n",
              "      <script>\n",
              "        const buttonEl =\n",
              "          document.querySelector('#df-59bc2afb-6bb2-4303-a99d-c2ad2b8aedf4 button.colab-df-convert');\n",
              "        buttonEl.style.display =\n",
              "          google.colab.kernel.accessAllowed ? 'block' : 'none';\n",
              "\n",
              "        async function convertToInteractive(key) {\n",
              "          const element = document.querySelector('#df-59bc2afb-6bb2-4303-a99d-c2ad2b8aedf4');\n",
              "          const dataTable =\n",
              "            await google.colab.kernel.invokeFunction('convertToInteractive',\n",
              "                                                     [key], {});\n",
              "          if (!dataTable) return;\n",
              "\n",
              "          const docLinkHtml = 'Like what you see? Visit the ' +\n",
              "            '<a target=\"_blank\" href=https://colab.research.google.com/notebooks/data_table.ipynb>data table notebook</a>'\n",
              "            + ' to learn more about interactive tables.';\n",
              "          element.innerHTML = '';\n",
              "          dataTable['output_type'] = 'display_data';\n",
              "          await google.colab.output.renderOutput(dataTable, element);\n",
              "          const docLink = document.createElement('div');\n",
              "          docLink.innerHTML = docLinkHtml;\n",
              "          element.appendChild(docLink);\n",
              "        }\n",
              "      </script>\n",
              "    </div>\n",
              "  </div>\n",
              "  "
            ]
          },
          "metadata": {},
          "execution_count": 93
        }
      ]
    },
    {
      "cell_type": "code",
      "source": [
        "final_df.sort_values(by='Test Score', ascending=False, inplace=True)"
      ],
      "metadata": {
        "id": "MxSWx5yJd5rK"
      },
      "execution_count": null,
      "outputs": []
    },
    {
      "cell_type": "code",
      "source": [
        "final_df.set_index('Classifier', inplace=True)"
      ],
      "metadata": {
        "id": "R8f2WBR_d5ij"
      },
      "execution_count": null,
      "outputs": []
    },
    {
      "cell_type": "code",
      "source": [
        "final_df"
      ],
      "metadata": {
        "id": "_rPu8Eo8eBqN",
        "colab": {
          "base_uri": "https://localhost:8080/",
          "height": 331
        },
        "outputId": "433bfe18-ba95-49b7-fd12-45293631a917"
      },
      "execution_count": null,
      "outputs": [
        {
          "output_type": "execute_result",
          "data": {
            "text/plain": [
              "                                  Train Score  Test Score  F1 Score  \\\n",
              "Classifier                                                            \n",
              "Logistic Regression - CV             0.999333    0.933762  0.934196   \n",
              "Linear SVC - CV                      0.982060    0.923667  0.923762   \n",
              "Linear SVC - TFIDF                   0.964381    0.916095  0.916397   \n",
              "Logistic Regression - TFIDF          0.951143    0.908381  0.908428   \n",
              "Decision Tree Classifier - CV        0.999964    0.896000  0.895687   \n",
              "Decision Tree Classifier - TFIDF     0.999964    0.888333  0.888305   \n",
              "Multinomial Naive Bayes - TFIDF      0.964429    0.860667  0.865434   \n",
              "Multinomial Naive Bayes - CV         0.961083    0.848000  0.854340   \n",
              "\n",
              "                                  Precision Scores  Recall Scores  \n",
              "Classifier                                                         \n",
              "Logistic Regression - CV                  0.934630       0.933762  \n",
              "Linear SVC - CV                           0.923857       0.923667  \n",
              "Linear SVC - TFIDF                        0.916699       0.916095  \n",
              "Logistic Regression - TFIDF               0.908476       0.908381  \n",
              "Decision Tree Classifier - CV             0.895375       0.896000  \n",
              "Decision Tree Classifier - TFIDF          0.888276       0.888333  \n",
              "Multinomial Naive Bayes - TFIDF           0.870255       0.860667  \n",
              "Multinomial Naive Bayes - CV              0.860776       0.848000  "
            ],
            "text/html": [
              "\n",
              "  <div id=\"df-1fda41c8-4678-49dd-a69f-08119e0e8865\">\n",
              "    <div class=\"colab-df-container\">\n",
              "      <div>\n",
              "<style scoped>\n",
              "    .dataframe tbody tr th:only-of-type {\n",
              "        vertical-align: middle;\n",
              "    }\n",
              "\n",
              "    .dataframe tbody tr th {\n",
              "        vertical-align: top;\n",
              "    }\n",
              "\n",
              "    .dataframe thead th {\n",
              "        text-align: right;\n",
              "    }\n",
              "</style>\n",
              "<table border=\"1\" class=\"dataframe\">\n",
              "  <thead>\n",
              "    <tr style=\"text-align: right;\">\n",
              "      <th></th>\n",
              "      <th>Train Score</th>\n",
              "      <th>Test Score</th>\n",
              "      <th>F1 Score</th>\n",
              "      <th>Precision Scores</th>\n",
              "      <th>Recall Scores</th>\n",
              "    </tr>\n",
              "    <tr>\n",
              "      <th>Classifier</th>\n",
              "      <th></th>\n",
              "      <th></th>\n",
              "      <th></th>\n",
              "      <th></th>\n",
              "      <th></th>\n",
              "    </tr>\n",
              "  </thead>\n",
              "  <tbody>\n",
              "    <tr>\n",
              "      <th>Logistic Regression - CV</th>\n",
              "      <td>0.999333</td>\n",
              "      <td>0.933762</td>\n",
              "      <td>0.934196</td>\n",
              "      <td>0.934630</td>\n",
              "      <td>0.933762</td>\n",
              "    </tr>\n",
              "    <tr>\n",
              "      <th>Linear SVC - CV</th>\n",
              "      <td>0.982060</td>\n",
              "      <td>0.923667</td>\n",
              "      <td>0.923762</td>\n",
              "      <td>0.923857</td>\n",
              "      <td>0.923667</td>\n",
              "    </tr>\n",
              "    <tr>\n",
              "      <th>Linear SVC - TFIDF</th>\n",
              "      <td>0.964381</td>\n",
              "      <td>0.916095</td>\n",
              "      <td>0.916397</td>\n",
              "      <td>0.916699</td>\n",
              "      <td>0.916095</td>\n",
              "    </tr>\n",
              "    <tr>\n",
              "      <th>Logistic Regression - TFIDF</th>\n",
              "      <td>0.951143</td>\n",
              "      <td>0.908381</td>\n",
              "      <td>0.908428</td>\n",
              "      <td>0.908476</td>\n",
              "      <td>0.908381</td>\n",
              "    </tr>\n",
              "    <tr>\n",
              "      <th>Decision Tree Classifier - CV</th>\n",
              "      <td>0.999964</td>\n",
              "      <td>0.896000</td>\n",
              "      <td>0.895687</td>\n",
              "      <td>0.895375</td>\n",
              "      <td>0.896000</td>\n",
              "    </tr>\n",
              "    <tr>\n",
              "      <th>Decision Tree Classifier - TFIDF</th>\n",
              "      <td>0.999964</td>\n",
              "      <td>0.888333</td>\n",
              "      <td>0.888305</td>\n",
              "      <td>0.888276</td>\n",
              "      <td>0.888333</td>\n",
              "    </tr>\n",
              "    <tr>\n",
              "      <th>Multinomial Naive Bayes - TFIDF</th>\n",
              "      <td>0.964429</td>\n",
              "      <td>0.860667</td>\n",
              "      <td>0.865434</td>\n",
              "      <td>0.870255</td>\n",
              "      <td>0.860667</td>\n",
              "    </tr>\n",
              "    <tr>\n",
              "      <th>Multinomial Naive Bayes - CV</th>\n",
              "      <td>0.961083</td>\n",
              "      <td>0.848000</td>\n",
              "      <td>0.854340</td>\n",
              "      <td>0.860776</td>\n",
              "      <td>0.848000</td>\n",
              "    </tr>\n",
              "  </tbody>\n",
              "</table>\n",
              "</div>\n",
              "      <button class=\"colab-df-convert\" onclick=\"convertToInteractive('df-1fda41c8-4678-49dd-a69f-08119e0e8865')\"\n",
              "              title=\"Convert this dataframe to an interactive table.\"\n",
              "              style=\"display:none;\">\n",
              "        \n",
              "  <svg xmlns=\"http://www.w3.org/2000/svg\" height=\"24px\"viewBox=\"0 0 24 24\"\n",
              "       width=\"24px\">\n",
              "    <path d=\"M0 0h24v24H0V0z\" fill=\"none\"/>\n",
              "    <path d=\"M18.56 5.44l.94 2.06.94-2.06 2.06-.94-2.06-.94-.94-2.06-.94 2.06-2.06.94zm-11 1L8.5 8.5l.94-2.06 2.06-.94-2.06-.94L8.5 2.5l-.94 2.06-2.06.94zm10 10l.94 2.06.94-2.06 2.06-.94-2.06-.94-.94-2.06-.94 2.06-2.06.94z\"/><path d=\"M17.41 7.96l-1.37-1.37c-.4-.4-.92-.59-1.43-.59-.52 0-1.04.2-1.43.59L10.3 9.45l-7.72 7.72c-.78.78-.78 2.05 0 2.83L4 21.41c.39.39.9.59 1.41.59.51 0 1.02-.2 1.41-.59l7.78-7.78 2.81-2.81c.8-.78.8-2.07 0-2.86zM5.41 20L4 18.59l7.72-7.72 1.47 1.35L5.41 20z\"/>\n",
              "  </svg>\n",
              "      </button>\n",
              "      \n",
              "  <style>\n",
              "    .colab-df-container {\n",
              "      display:flex;\n",
              "      flex-wrap:wrap;\n",
              "      gap: 12px;\n",
              "    }\n",
              "\n",
              "    .colab-df-convert {\n",
              "      background-color: #E8F0FE;\n",
              "      border: none;\n",
              "      border-radius: 50%;\n",
              "      cursor: pointer;\n",
              "      display: none;\n",
              "      fill: #1967D2;\n",
              "      height: 32px;\n",
              "      padding: 0 0 0 0;\n",
              "      width: 32px;\n",
              "    }\n",
              "\n",
              "    .colab-df-convert:hover {\n",
              "      background-color: #E2EBFA;\n",
              "      box-shadow: 0px 1px 2px rgba(60, 64, 67, 0.3), 0px 1px 3px 1px rgba(60, 64, 67, 0.15);\n",
              "      fill: #174EA6;\n",
              "    }\n",
              "\n",
              "    [theme=dark] .colab-df-convert {\n",
              "      background-color: #3B4455;\n",
              "      fill: #D2E3FC;\n",
              "    }\n",
              "\n",
              "    [theme=dark] .colab-df-convert:hover {\n",
              "      background-color: #434B5C;\n",
              "      box-shadow: 0px 1px 3px 1px rgba(0, 0, 0, 0.15);\n",
              "      filter: drop-shadow(0px 1px 2px rgba(0, 0, 0, 0.3));\n",
              "      fill: #FFFFFF;\n",
              "    }\n",
              "  </style>\n",
              "\n",
              "      <script>\n",
              "        const buttonEl =\n",
              "          document.querySelector('#df-1fda41c8-4678-49dd-a69f-08119e0e8865 button.colab-df-convert');\n",
              "        buttonEl.style.display =\n",
              "          google.colab.kernel.accessAllowed ? 'block' : 'none';\n",
              "\n",
              "        async function convertToInteractive(key) {\n",
              "          const element = document.querySelector('#df-1fda41c8-4678-49dd-a69f-08119e0e8865');\n",
              "          const dataTable =\n",
              "            await google.colab.kernel.invokeFunction('convertToInteractive',\n",
              "                                                     [key], {});\n",
              "          if (!dataTable) return;\n",
              "\n",
              "          const docLinkHtml = 'Like what you see? Visit the ' +\n",
              "            '<a target=\"_blank\" href=https://colab.research.google.com/notebooks/data_table.ipynb>data table notebook</a>'\n",
              "            + ' to learn more about interactive tables.';\n",
              "          element.innerHTML = '';\n",
              "          dataTable['output_type'] = 'display_data';\n",
              "          await google.colab.output.renderOutput(dataTable, element);\n",
              "          const docLink = document.createElement('div');\n",
              "          docLink.innerHTML = docLinkHtml;\n",
              "          element.appendChild(docLink);\n",
              "        }\n",
              "      </script>\n",
              "    </div>\n",
              "  </div>\n",
              "  "
            ]
          },
          "metadata": {},
          "execution_count": 96
        }
      ]
    },
    {
      "cell_type": "code",
      "source": [
        "print('Model with Highest F1 Score:', final_df['Test Score'].idxmax())"
      ],
      "metadata": {
        "colab": {
          "base_uri": "https://localhost:8080/"
        },
        "id": "25DSXMWotpk6",
        "outputId": "cb301f97-4e6c-43ac-93b0-55333ccee645"
      },
      "execution_count": null,
      "outputs": [
        {
          "output_type": "stream",
          "name": "stdout",
          "text": [
            "Model with Highest F1 Score: Logistic Regression - CV\n"
          ]
        }
      ]
    },
    {
      "cell_type": "code",
      "source": [
        "fig, ((ax1,ax2),(ax3,ax4)) = plt.subplots(2,2, figsize=(15,10), facecolor='linen')\n",
        "\n",
        "ax1.barh(width=final_df['Train Score'], y = final_df.index, color='lightblue',edgecolor='black')\n",
        "ax1.set_title('Train score', fontweight='bold', size=15)\n",
        "\n",
        "ax2.barh(width=final_df['Test Score'], y = final_df.index, color='salmon', edgecolor='black')\n",
        "ax2.set_title('Test score', fontweight='bold', size=15)\n",
        "\n",
        "ax3.barh(width=final_df['F1 Score'], y = final_df.index, color='teal', edgecolor='black')\n",
        "ax3.set_title('F1 score', fontweight='bold', size=15)\n",
        "\n",
        "ax4.barh(width=final_df['Recall Scores'], y = final_df.index, color='yellowgreen', edgecolor='black')\n",
        "ax4.set_title('Recall score', fontweight='bold', size=15)\n",
        "\n",
        "\n",
        "plt.tight_layout()"
      ],
      "metadata": {
        "id": "LCm4c07QeBiL",
        "colab": {
          "base_uri": "https://localhost:8080/",
          "height": 728
        },
        "outputId": "2bb64b4f-6c18-4b08-9147-c53106c76551"
      },
      "execution_count": null,
      "outputs": [
        {
          "output_type": "display_data",
          "data": {
            "text/plain": [
              "<Figure size 1080x720 with 4 Axes>"
            ],
            "image/png": "[encoded data removed]"
          },
          "metadata": {}
        }
      ]
    },
    {
      "cell_type": "markdown",
      "metadata": {
        "id": "DIg73fUreC5c"
      },
      "source": [
        "# <CENTER> AMAZON REVIEWS ANALYSIS - HOUSE & KITCHEN\n"
      ]
    },
    {
      "cell_type": "code",
      "source": [
        "hk_sent.head()"
      ],
      "metadata": {
        "colab": {
          "base_uri": "https://localhost:8080/",
          "height": 206
        },
        "id": "Tpvph58zExV6",
        "outputId": "a05680a6-dc62-427b-c875-789c65f8b92c"
      },
      "execution_count": null,
      "outputs": [
        {
          "output_type": "execute_result",
          "data": {
            "text/plain": [
              "         date                                             review  \\\n",
              "0  2012-10-04  have you ever thought about how you met your b...   \n",
              "1  2011-03-22  the butter dish is serving us well and keeping...   \n",
              "2  2008-06-30  i anxiously waited for the book i had pre orde...   \n",
              "3  2010-06-24  fantastic book a lot of good original recipes ...   \n",
              "4  2014-02-23  can not wait to try all the amazing techniques...   \n",
              "\n",
              "   subjectivity  polarity  Analysis  \\\n",
              "0      0.557619  0.294524  Positive   \n",
              "1      0.433333  0.200000  Positive   \n",
              "2      0.645635  0.339286  Positive   \n",
              "3      0.675000  0.625833  Positive   \n",
              "4      0.900000  0.600000  Positive   \n",
              "\n",
              "                                        preprocessed  \n",
              "0  ever thought met best friend normal wacky like...  \n",
              "1  butter dish serving u well keeping butter fres...  \n",
              "2  anxiously waited book pre ordered pic beautifu...  \n",
              "3  fantastic book lot good original recipe nicely...  \n",
              "4  wait try amazing technique browsed say book lo...  "
            ],
            "text/html": [
              "\n",
              "  <div id=\"df-6795ca9e-345f-489e-9b2e-ce88de226363\">\n",
              "    <div class=\"colab-df-container\">\n",
              "      <div>\n",
              "<style scoped>\n",
              "    .dataframe tbody tr th:only-of-type {\n",
              "        vertical-align: middle;\n",
              "    }\n",
              "\n",
              "    .dataframe tbody tr th {\n",
              "        vertical-align: top;\n",
              "    }\n",
              "\n",
              "    .dataframe thead th {\n",
              "        text-align: right;\n",
              "    }\n",
              "</style>\n",
              "<table border=\"1\" class=\"dataframe\">\n",
              "  <thead>\n",
              "    <tr style=\"text-align: right;\">\n",
              "      <th></th>\n",
              "      <th>date</th>\n",
              "      <th>review</th>\n",
              "      <th>subjectivity</th>\n",
              "      <th>polarity</th>\n",
              "      <th>Analysis</th>\n",
              "      <th>preprocessed</th>\n",
              "    </tr>\n",
              "  </thead>\n",
              "  <tbody>\n",
              "    <tr>\n",
              "      <th>0</th>\n",
              "      <td>2012-10-04</td>\n",
              "      <td>have you ever thought about how you met your b...</td>\n",
              "      <td>0.557619</td>\n",
              "      <td>0.294524</td>\n",
              "      <td>Positive</td>\n",
              "      <td>ever thought met best friend normal wacky like...</td>\n",
              "    </tr>\n",
              "    <tr>\n",
              "      <th>1</th>\n",
              "      <td>2011-03-22</td>\n",
              "      <td>the butter dish is serving us well and keeping...</td>\n",
              "      <td>0.433333</td>\n",
              "      <td>0.200000</td>\n",
              "      <td>Positive</td>\n",
              "      <td>butter dish serving u well keeping butter fres...</td>\n",
              "    </tr>\n",
              "    <tr>\n",
              "      <th>2</th>\n",
              "      <td>2008-06-30</td>\n",
              "      <td>i anxiously waited for the book i had pre orde...</td>\n",
              "      <td>0.645635</td>\n",
              "      <td>0.339286</td>\n",
              "      <td>Positive</td>\n",
              "      <td>anxiously waited book pre ordered pic beautifu...</td>\n",
              "    </tr>\n",
              "    <tr>\n",
              "      <th>3</th>\n",
              "      <td>2010-06-24</td>\n",
              "      <td>fantastic book a lot of good original recipes ...</td>\n",
              "      <td>0.675000</td>\n",
              "      <td>0.625833</td>\n",
              "      <td>Positive</td>\n",
              "      <td>fantastic book lot good original recipe nicely...</td>\n",
              "    </tr>\n",
              "    <tr>\n",
              "      <th>4</th>\n",
              "      <td>2014-02-23</td>\n",
              "      <td>can not wait to try all the amazing techniques...</td>\n",
              "      <td>0.900000</td>\n",
              "      <td>0.600000</td>\n",
              "      <td>Positive</td>\n",
              "      <td>wait try amazing technique browsed say book lo...</td>\n",
              "    </tr>\n",
              "  </tbody>\n",
              "</table>\n",
              "</div>\n",
              "      <button class=\"colab-df-convert\" onclick=\"convertToInteractive('df-6795ca9e-345f-489e-9b2e-ce88de226363')\"\n",
              "              title=\"Convert this dataframe to an interactive table.\"\n",
              "              style=\"display:none;\">\n",
              "        \n",
              "  <svg xmlns=\"http://www.w3.org/2000/svg\" height=\"24px\"viewBox=\"0 0 24 24\"\n",
              "       width=\"24px\">\n",
              "    <path d=\"M0 0h24v24H0V0z\" fill=\"none\"/>\n",
              "    <path d=\"M18.56 5.44l.94 2.06.94-2.06 2.06-.94-2.06-.94-.94-2.06-.94 2.06-2.06.94zm-11 1L8.5 8.5l.94-2.06 2.06-.94-2.06-.94L8.5 2.5l-.94 2.06-2.06.94zm10 10l.94 2.06.94-2.06 2.06-.94-2.06-.94-.94-2.06-.94 2.06-2.06.94z\"/><path d=\"M17.41 7.96l-1.37-1.37c-.4-.4-.92-.59-1.43-.59-.52 0-1.04.2-1.43.59L10.3 9.45l-7.72 7.72c-.78.78-.78 2.05 0 2.83L4 21.41c.39.39.9.59 1.41.59.51 0 1.02-.2 1.41-.59l7.78-7.78 2.81-2.81c.8-.78.8-2.07 0-2.86zM5.41 20L4 18.59l7.72-7.72 1.47 1.35L5.41 20z\"/>\n",
              "  </svg>\n",
              "      </button>\n",
              "      \n",
              "  <style>\n",
              "    .colab-df-container {\n",
              "      display:flex;\n",
              "      flex-wrap:wrap;\n",
              "      gap: 12px;\n",
              "    }\n",
              "\n",
              "    .colab-df-convert {\n",
              "      background-color: #E8F0FE;\n",
              "      border: none;\n",
              "      border-radius: 50%;\n",
              "      cursor: pointer;\n",
              "      display: none;\n",
              "      fill: #1967D2;\n",
              "      height: 32px;\n",
              "      padding: 0 0 0 0;\n",
              "      width: 32px;\n",
              "    }\n",
              "\n",
              "    .colab-df-convert:hover {\n",
              "      background-color: #E2EBFA;\n",
              "      box-shadow: 0px 1px 2px rgba(60, 64, 67, 0.3), 0px 1px 3px 1px rgba(60, 64, 67, 0.15);\n",
              "      fill: #174EA6;\n",
              "    }\n",
              "\n",
              "    [theme=dark] .colab-df-convert {\n",
              "      background-color: #3B4455;\n",
              "      fill: #D2E3FC;\n",
              "    }\n",
              "\n",
              "    [theme=dark] .colab-df-convert:hover {\n",
              "      background-color: #434B5C;\n",
              "      box-shadow: 0px 1px 3px 1px rgba(0, 0, 0, 0.15);\n",
              "      filter: drop-shadow(0px 1px 2px rgba(0, 0, 0, 0.3));\n",
              "      fill: #FFFFFF;\n",
              "    }\n",
              "  </style>\n",
              "\n",
              "      <script>\n",
              "        const buttonEl =\n",
              "          document.querySelector('#df-6795ca9e-345f-489e-9b2e-ce88de226363 button.colab-df-convert');\n",
              "        buttonEl.style.display =\n",
              "          google.colab.kernel.accessAllowed ? 'block' : 'none';\n",
              "\n",
              "        async function convertToInteractive(key) {\n",
              "          const element = document.querySelector('#df-6795ca9e-345f-489e-9b2e-ce88de226363');\n",
              "          const dataTable =\n",
              "            await google.colab.kernel.invokeFunction('convertToInteractive',\n",
              "                                                     [key], {});\n",
              "          if (!dataTable) return;\n",
              "\n",
              "          const docLinkHtml = 'Like what you see? Visit the ' +\n",
              "            '<a target=\"_blank\" href=https://colab.research.google.com/notebooks/data_table.ipynb>data table notebook</a>'\n",
              "            + ' to learn more about interactive tables.';\n",
              "          element.innerHTML = '';\n",
              "          dataTable['output_type'] = 'display_data';\n",
              "          await google.colab.output.renderOutput(dataTable, element);\n",
              "          const docLink = document.createElement('div');\n",
              "          docLink.innerHTML = docLinkHtml;\n",
              "          element.appendChild(docLink);\n",
              "        }\n",
              "      </script>\n",
              "    </div>\n",
              "  </div>\n",
              "  "
            ]
          },
          "metadata": {},
          "execution_count": 11
        }
      ]
    },
    {
      "cell_type": "markdown",
      "source": [
        "# <center> SPLITING THE DATASET INTO TRAIN AND TEST"
      ],
      "metadata": {
        "id": "mdArIFQ6eC5d"
      }
    },
    {
      "cell_type": "code",
      "execution_count": null,
      "metadata": {
        "id": "Z6Db1KSfeC5d"
      },
      "outputs": [],
      "source": [
        "#SAMPLING THE DATA INTO A BALANCED DATASET "
      ]
    },
    {
      "cell_type": "code",
      "execution_count": null,
      "metadata": {
        "id": "3Bw9GjSkeC5d"
      },
      "outputs": [],
      "source": [
        "# Separate majority and minority classes\n",
        "hk_pos = hk_sent[hk_sent['Analysis']=='Positive']\n",
        "hk_neu = hk_sent[hk_sent['Analysis']=='Neutral']\n",
        "hk_neg = hk_sent[hk_sent['Analysis']=='Negative']\n",
        " \n",
        "\n",
        "df_hk_pos = resample(hk_pos, \n",
        "                                 replace=False,    \n",
        "                                 n_samples=35000)\n",
        "\n",
        "df_hk_neu = resample(hk_neu, \n",
        "                                 replace=True,     \n",
        "                                 n_samples=35000)\n",
        "\n",
        "df_hk_neg = resample(hk_neg, \n",
        "                        replace=True, n_samples=35000)\n",
        "\n",
        "# Combine minority class with downsampled majority class\n",
        "hk_df = pd.concat([df_hk_pos, df_hk_neu,df_hk_neg])"
      ]
    },
    {
      "cell_type": "code",
      "execution_count": null,
      "metadata": {
        "id": "zU09dpMreC5d"
      },
      "outputs": [],
      "source": [
        "X = hk_df[\"preprocessed\"]\n",
        "y = hk_df[\"Analysis\"]"
      ]
    },
    {
      "cell_type": "code",
      "execution_count": null,
      "metadata": {
        "id": "C5AJx9fReC5d"
      },
      "outputs": [],
      "source": [
        "X_train, X_test, y_train, y_test = train_test_split(X,y,test_size = 0.2,random_state = 42)"
      ]
    },
    {
      "cell_type": "markdown",
      "source": [
        "# <center> Pipeline Model"
      ],
      "metadata": {
        "id": "o_DFb3apejSG"
      }
    },
    {
      "cell_type": "code",
      "source": [
        "f1_list = []\n",
        "recall_list = []\n",
        "precision_list = []\n",
        "train_accuracy_list = []\n",
        "test_accuracy_list = []\n",
        "\n",
        "def f1_score1(precision,recall):\n",
        "  f1 = 2*(precision * recall)/(precision + recall)\n",
        "  return f1"
      ],
      "metadata": {
        "id": "IP7B2JlzejSG"
      },
      "execution_count": null,
      "outputs": []
    },
    {
      "cell_type": "code",
      "source": [
        "def evaluation(pipeline):\n",
        "  pipeline = pipeline.fit(X_train, y_train)\n",
        "  global accuracy_train, accuracy_test, precision1, recall1, f1_score, y_pred_test, y_pred_train\n",
        "  \n",
        "  y_pred_train = pipeline.predict(X_train)\n",
        "  y_pred_test = pipeline.predict(X_test)\n",
        "\n",
        "  accuracy_train=accuracy_score(y_train, y_pred_train)\n",
        "  accuracy_test=accuracy_score(y_test, y_pred_test)\n",
        "  precision1 = precision_score(y_test, y_pred_test,average=\"weighted\")\n",
        "  recall1 = recall_score(y_test, y_pred_test,average=\"weighted\")\n",
        "  f1_score2 = f1_score1(precision1, recall1)\n",
        "\n",
        "  print('Accuracy on train %f' %accuracy_train)\n",
        "  print('Accuracy on test %f' %accuracy_test)\n",
        "  print(\"F1 Score\", f1_score2)\n",
        "  print(\"Precision Score\", precision1)\n",
        "  print(\"Recall Score\", recall1)\n",
        "\n",
        "  f1_list.append(f1_score2)\n",
        "  precision_list.append(precision1)\n",
        "  recall_list.append(recall1)\n",
        "  train_accuracy_list.append(accuracy_train)\n",
        "  test_accuracy_list.append(accuracy_test)"
      ],
      "metadata": {
        "id": "txS29QmxejSG"
      },
      "execution_count": null,
      "outputs": []
    },
    {
      "cell_type": "markdown",
      "source": [
        "# <CENTER> LOGISTIC REGRESSION"
      ],
      "metadata": {
        "id": "DgUy1kWiejSG"
      }
    },
    {
      "cell_type": "code",
      "source": [
        "pipeline_lr_cv = Pipeline([\n",
        "    ('vect', CountVectorizer(analyzer='word', ngram_range=(1, 2))),\n",
        "    ('clf', LogisticRegression(max_iter=500,random_state=40,solver='newton-cg',multi_class=\"ovr\")),\n",
        "])\n",
        "\n",
        "evaluation(pipeline_lr_cv)"
      ],
      "metadata": {
        "colab": {
          "base_uri": "https://localhost:8080/"
        },
        "outputId": "77dcce2c-d083-4077-e32a-e720cd02585c",
        "id": "Uz_hTBWUejSG"
      },
      "execution_count": null,
      "outputs": [
        {
          "output_type": "stream",
          "name": "stdout",
          "text": [
            "Accuracy on train 0.999179\n",
            "Accuracy on test 0.933333\n",
            "F1 Score 0.934032873136413\n",
            "Precision Score 0.934733462345893\n",
            "Recall Score 0.9333333333333333\n"
          ]
        }
      ]
    },
    {
      "cell_type": "code",
      "source": [
        "pipeline_lr_tfidf = Pipeline([\n",
        "    ('vect', TfidfVectorizer(analyzer='word', ngram_range=(1, 2))),\n",
        "    ('pipeline_lr_tfidf', LogisticRegression(max_iter=500,random_state=40,solver='newton-cg',multi_class=\"ovr\")),\n",
        "])\n",
        "\n",
        "evaluation(pipeline_lr_tfidf)"
      ],
      "metadata": {
        "id": "pDuevH9JejSH"
      },
      "execution_count": null,
      "outputs": []
    },
    {
      "cell_type": "markdown",
      "source": [
        "# <CENTER> DECISION TREE CLASSIFIER"
      ],
      "metadata": {
        "id": "WDpA-ymfejSH"
      }
    },
    {
      "cell_type": "code",
      "source": [
        "pipeline_dt_cv = Pipeline([\n",
        "    ('vect', CountVectorizer(analyzer='word', ngram_range=(1, 2))),\n",
        "    ('pipeline_dt_cv', DecisionTreeClassifier(criterion= \"entropy\")),\n",
        "])\n",
        "\n",
        "evaluation(pipeline_dt_cv)"
      ],
      "metadata": {
        "colab": {
          "base_uri": "https://localhost:8080/"
        },
        "outputId": "b0a8914f-15e3-4ce0-bc24-bfc420b7c483",
        "id": "TmNyGkxJejSH"
      },
      "execution_count": null,
      "outputs": [
        {
          "output_type": "stream",
          "name": "stdout",
          "text": [
            "Accuracy on train 0.999976\n",
            "Accuracy on test 0.822143\n",
            "F1 Score 0.8216216822187354\n",
            "Precision Score 0.8211011676451112\n",
            "Recall Score 0.8221428571428572\n"
          ]
        }
      ]
    },
    {
      "cell_type": "code",
      "source": [
        "pipeline_dt_tfidf = Pipeline([\n",
        "    ('vect',TfidfVectorizer(analyzer='word', ngram_range=(1, 2))),\n",
        "    ('pipeline_dt_tfidf', DecisionTreeClassifier()),\n",
        "])\n",
        "\n",
        "evaluation(pipeline_dt_tfidf)"
      ],
      "metadata": {
        "colab": {
          "base_uri": "https://localhost:8080/"
        },
        "outputId": "704f62d3-324f-4c9e-ae09-b7dd1e33960f",
        "id": "b03uNa_8ejSH"
      },
      "execution_count": null,
      "outputs": [
        {
          "output_type": "stream",
          "name": "stdout",
          "text": [
            "Accuracy on train 0.999976\n",
            "Accuracy on test 0.813524\n",
            "F1 Score 0.8128921806510067\n",
            "Precision Score 0.8122615318245541\n",
            "Recall Score 0.8135238095238095\n"
          ]
        }
      ]
    },
    {
      "cell_type": "markdown",
      "source": [
        "# <CENTER> MULTINOMIAL NAIVE BAYES "
      ],
      "metadata": {
        "id": "Yms6PuApejSH"
      }
    },
    {
      "cell_type": "code",
      "source": [
        "pipeline_mul_cv = Pipeline([\n",
        "    ('vect', CountVectorizer(analyzer='word', ngram_range=(1, 2))),\n",
        "    ('clf', MultinomialNB()),\n",
        "])\n",
        "\n",
        "evaluation(pipeline_mul_cv)"
      ],
      "metadata": {
        "colab": {
          "base_uri": "https://localhost:8080/"
        },
        "outputId": "c910bb38-3cfd-4c27-a306-3707d9e2d207",
        "id": "DKpSxQJzejSH"
      },
      "execution_count": null,
      "outputs": [
        {
          "output_type": "stream",
          "name": "stdout",
          "text": [
            "Accuracy on train 0.941167\n",
            "Accuracy on test 0.665333\n",
            "F1 Score 0.7005091773692149\n",
            "Precision Score 0.7396121032049691\n",
            "Recall Score 0.6653333333333333\n"
          ]
        }
      ]
    },
    {
      "cell_type": "code",
      "source": [
        "pipeline_mul_tfidf = Pipeline([\n",
        "    ('vect', TfidfVectorizer(analyzer='word', ngram_range=(1, 2))),\n",
        "    ('clf', MultinomialNB()),\n",
        "])\n",
        "\n",
        "evaluation(pipeline_mul_tfidf)"
      ],
      "metadata": {
        "colab": {
          "base_uri": "https://localhost:8080/"
        },
        "outputId": "25d61973-7b3e-4cd8-8fc6-41876e12453f",
        "id": "TVZ3p8SvejSH"
      },
      "execution_count": null,
      "outputs": [
        {
          "output_type": "stream",
          "name": "stdout",
          "text": [
            "Accuracy on train 0.926655\n",
            "Accuracy on test 0.687857\n",
            "F1 Score 0.7166633591909629\n",
            "Precision Score 0.74798773631047\n",
            "Recall Score 0.6878571428571428\n"
          ]
        }
      ]
    },
    {
      "cell_type": "markdown",
      "source": [
        "# <center> SUPPORT VECTOR CLASSIFIER"
      ],
      "metadata": {
        "id": "XTPp4zSfejSH"
      }
    },
    {
      "cell_type": "code",
      "source": [
        "pipeline_svc_cv = Pipeline([\n",
        "    ('vect', CountVectorizer()),\n",
        "    ('pipeline_svc_cv',LinearSVC()),\n",
        "])\n",
        "\n",
        "evaluation(pipeline_svc_cv)"
      ],
      "metadata": {
        "colab": {
          "base_uri": "https://localhost:8080/"
        },
        "outputId": "d7d7b85f-096b-4144-8981-99d6b574acd6",
        "id": "-GJjMxcdejSH"
      },
      "execution_count": null,
      "outputs": [
        {
          "output_type": "stream",
          "name": "stderr",
          "text": [
            "/usr/local/lib/python3.8/dist-packages/sklearn/svm/_base.py:1206: ConvergenceWarning: Liblinear failed to converge, increase the number of iterations.\n",
            "  warnings.warn(\n"
          ]
        },
        {
          "output_type": "stream",
          "name": "stdout",
          "text": [
            "Accuracy on train 0.967417\n",
            "Accuracy on test 0.866714\n",
            "F1 Score 0.8668911156953679\n",
            "Precision Score 0.8670680178460766\n",
            "Recall Score 0.8667142857142857\n"
          ]
        }
      ]
    },
    {
      "cell_type": "code",
      "source": [
        "pipeline_svc_tfidf = Pipeline([\n",
        "    ('vect',TfidfVectorizer()),\n",
        "    ('pipeline_svc_tfidf',LinearSVC()),\n",
        "])\n",
        "\n",
        "evaluation(pipeline_svc_tfidf)"
      ],
      "metadata": {
        "colab": {
          "base_uri": "https://localhost:8080/"
        },
        "outputId": "2fea4d12-c3e4-4951-ab26-0ab4999e1d09",
        "id": "THdlC0wcejSH"
      },
      "execution_count": null,
      "outputs": [
        {
          "output_type": "stream",
          "name": "stdout",
          "text": [
            "Accuracy on train 0.945679\n",
            "Accuracy on test 0.880238\n",
            "F1 Score 0.8806853290944946\n",
            "Precision Score 0.8811330176455973\n",
            "Recall Score 0.8802380952380953\n"
          ]
        }
      ]
    },
    {
      "cell_type": "code",
      "source": [
        "pipe_dict = {0:'Logistic Regression - CV', \n",
        "             1:'Logistic Regression - TFIDF', \n",
        "             2:'Decision Tree Classifier - CV', \n",
        "             3:'Decision Tree Classifier - TFIDF', \n",
        "             4:'Multinomial Naive Bayes - CV', \n",
        "             5:'Multinomial Naive Bayes - TFIDF',\n",
        "             6:'Linear SVC - CV', \n",
        "             7:'Linear SVC - TFIDF'}"
      ],
      "metadata": {
        "id": "1x4rcgtdejSH"
      },
      "execution_count": null,
      "outputs": []
    },
    {
      "cell_type": "code",
      "source": [
        "final_df = pd.DataFrame(zip(pipe_dict.values(), train_accuracy_list, test_accuracy_list, f1_list, precision_list, recall_list),\n",
        "                        columns=['Classifier', 'Train Score', 'Test Score','F1 Score', 'Precision Scores', 'Recall Scores'])"
      ],
      "metadata": {
        "id": "9ewfZZ_xejSI"
      },
      "execution_count": null,
      "outputs": []
    },
    {
      "cell_type": "code",
      "source": [
        "final_df"
      ],
      "metadata": {
        "id": "qWBTq0WKejSI"
      },
      "execution_count": null,
      "outputs": []
    },
    {
      "cell_type": "code",
      "source": [
        "final_df.sort_values(by='Test Score', ascending=False, inplace=True)"
      ],
      "metadata": {
        "id": "gLKFLyiaejSI"
      },
      "execution_count": null,
      "outputs": []
    },
    {
      "cell_type": "code",
      "source": [
        "final_df.set_index('Classifier', inplace=True)"
      ],
      "metadata": {
        "id": "_vnstdr2ejSI"
      },
      "execution_count": null,
      "outputs": []
    },
    {
      "cell_type": "code",
      "source": [
        "final_df"
      ],
      "metadata": {
        "id": "PUaY9vQQejSI"
      },
      "execution_count": null,
      "outputs": []
    },
    {
      "cell_type": "code",
      "source": [
        "print('Model with Highest F1 Score:', final_df['Test Score'].idxmax())"
      ],
      "metadata": {
        "colab": {
          "base_uri": "https://localhost:8080/"
        },
        "outputId": "2f70dcc9-b468-41c8-9852-c58ec9e8c6cf",
        "id": "gp624R7hejSI"
      },
      "execution_count": null,
      "outputs": [
        {
          "output_type": "stream",
          "name": "stdout",
          "text": [
            "Model with Highest F1 Score: Logistic Regression - TFIDF\n"
          ]
        }
      ]
    },
    {
      "cell_type": "code",
      "source": [
        "fig, ((ax1,ax2),(ax3,ax4)) = plt.subplots(2,2, figsize=(15,10), facecolor='linen')\n",
        "\n",
        "ax1.barh(width=final_df['Train Score'], y = final_df.index, color='lightblue',edgecolor='black')\n",
        "ax1.set_title('Train score', fontweight='bold', size=15)\n",
        "\n",
        "ax2.barh(width=final_df['Test Score'], y = final_df.index, color='salmon', edgecolor='black')\n",
        "ax2.set_title('Test score', fontweight='bold', size=15)\n",
        "\n",
        "ax3.barh(width=final_df['F1 Score'], y = final_df.index, color='teal', edgecolor='black')\n",
        "ax3.set_title('F1 score', fontweight='bold', size=15)\n",
        "\n",
        "ax4.barh(width=final_df['Recall Scores'], y = final_df.index, color='yellowgreen', edgecolor='black')\n",
        "ax4.set_title('Recall score', fontweight='bold', size=15)\n",
        "\n",
        "\n",
        "plt.tight_layout()"
      ],
      "metadata": {
        "colab": {
          "base_uri": "https://localhost:8080/",
          "height": 717
        },
        "outputId": "70275776-a342-4364-c780-ef2e4a4e9ca0",
        "id": "Xy1sa8ujejSI"
      },
      "execution_count": null,
      "outputs": [
        {
          "output_type": "display_data",
          "data": {
            "text/plain": [
              "<Figure size 1080x720 with 4 Axes>"
            ],
            "image/png": "[encoded data removed]"
          },
          "metadata": {}
        }
      ]
    },
    {
      "cell_type": "markdown",
      "source": [
        "# <CENTER> PERFORMING HYPERPARAMETER TUNING ON LOGISTIC REGRESSION CV"
      ],
      "metadata": {
        "id": "of7XmOqyM1Su"
      }
    },
    {
      "cell_type": "code",
      "source": [
        "params_lr = {'clf__C':[0.5,1,2,3,5,10], #regularisation parameter: As the value of C increases, it reduces the variance.\n",
        "            'clf__penalty':['l2']} "
      ],
      "metadata": {
        "id": "UQ66uv8Uevnn"
      },
      "execution_count": null,
      "outputs": []
    },
    {
      "cell_type": "code",
      "source": [],
      "metadata": {
        "id": "qHuP4-k7Mzfi"
      },
      "execution_count": null,
      "outputs": []
    },
    {
      "cell_type": "code",
      "source": [
        "cv = StratifiedKFold(n_splits=7,shuffle=True, random_state=None)"
      ],
      "metadata": {
        "id": "0lQgP5UMN0NR"
      },
      "execution_count": null,
      "outputs": []
    },
    {
      "cell_type": "code",
      "source": [
        "pipeline_lr_cv = Pipeline([\n",
        "    ('vect', CountVectorizer(analyzer='word', ngram_range=(1, 2))),\n",
        "         ('clf', LogisticRegression(random_state=40,multi_class=\"ovr\"))\n",
        "])"
      ],
      "metadata": {
        "id": "2t5kNB0COyPp"
      },
      "execution_count": null,
      "outputs": []
    },
    {
      "cell_type": "code",
      "source": [
        "gs = GridSearchCV(pipeline_lr_cv, params_lr,cv= cv, verbose=1, n_jobs=-1,scoring='f1_weighted')\n",
        "gs.fit(X_train, y_train)"
      ],
      "metadata": {
        "id": "0YESxQhaQvOr"
      },
      "execution_count": null,
      "outputs": []
    },
    {
      "cell_type": "code",
      "source": [
        "gs.best_params_"
      ],
      "metadata": {
        "colab": {
          "base_uri": "https://localhost:8080/"
        },
        "id": "Lu5p0xeHR0qZ",
        "outputId": "07cc5d2f-0800-4360-afca-67c0a21ad6ff"
      },
      "execution_count": null,
      "outputs": [
        {
          "output_type": "execute_result",
          "data": {
            "text/plain": [
              "{'clf__C': 10, 'clf__penalty': 'l2'}"
            ]
          },
          "metadata": {},
          "execution_count": 68
        }
      ]
    },
    {
      "cell_type": "code",
      "source": [
        "params_lr2 = {'clf__penalty':['l2'],\n",
        "                'clf__C':[8,9,10,12],\n",
        "                'clf__solver': ['newton-cg','saga', 'sag', 'linlinear']}"
      ],
      "metadata": {
        "id": "N_H9xPT6dON6"
      },
      "execution_count": null,
      "outputs": []
    },
    {
      "cell_type": "code",
      "source": [
        "gs1 = GridSearchCV(pipeline_lr_cv, params_lr2,cv= cv, verbose=1, n_jobs=-1,scoring='f1_weighted')\n",
        "gs1.fit(X_train, y_train)"
      ],
      "metadata": {
        "colab": {
          "base_uri": "https://localhost:8080/",
          "height": 603
        },
        "id": "VBXtSNmHdYgD",
        "outputId": "944a8455-c33d-4aa7-ac48-abd62a5d0828"
      },
      "execution_count": null,
      "outputs": [
        {
          "output_type": "stream",
          "name": "stdout",
          "text": [
            "Fitting 7 folds for each of 16 candidates, totalling 112 fits\n"
          ]
        },
        {
          "output_type": "stream",
          "name": "stderr",
          "text": [
            "/usr/local/lib/python3.8/dist-packages/sklearn/model_selection/_validation.py:372: FitFailedWarning: \n",
            "28 fits failed out of a total of 112.\n",
            "The score on these train-test partitions for these parameters will be set to nan.\n",
            "If these failures are not expected, you can try to debug them by setting error_score='raise'.\n",
            "\n",
            "Below are more details about the failures:\n",
            "--------------------------------------------------------------------------------\n",
            "28 fits failed with the following error:\n",
            "Traceback (most recent call last):\n",
            "  File \"/usr/local/lib/python3.8/dist-packages/sklearn/model_selection/_validation.py\", line 680, in _fit_and_score\n",
            "    estimator.fit(X_train, y_train, **fit_params)\n",
            "  File \"/usr/local/lib/python3.8/dist-packages/sklearn/pipeline.py\", line 394, in fit\n",
            "    self._final_estimator.fit(Xt, y, **fit_params_last_step)\n",
            "  File \"/usr/local/lib/python3.8/dist-packages/sklearn/linear_model/_logistic.py\", line 1461, in fit\n",
            "    solver = _check_solver(self.solver, self.penalty, self.dual)\n",
            "  File \"/usr/local/lib/python3.8/dist-packages/sklearn/linear_model/_logistic.py\", line 434, in _check_solver\n",
            "    raise ValueError(\n",
            "ValueError: Logistic Regression supports only solvers in ['liblinear', 'newton-cg', 'lbfgs', 'sag', 'saga'], got linlinear.\n",
            "\n",
            "  warnings.warn(some_fits_failed_message, FitFailedWarning)\n",
            "/usr/local/lib/python3.8/dist-packages/sklearn/model_selection/_search.py:969: UserWarning: One or more of the test scores are non-finite: [0.92724374 0.84069156 0.85956086        nan 0.92723108 0.84069156\n",
            " 0.85956086        nan 0.92718264 0.84069156 0.85956086        nan\n",
            " 0.92711105 0.84069156 0.85956086        nan]\n",
            "  warnings.warn(\n"
          ]
        },
        {
          "output_type": "execute_result",
          "data": {
            "text/plain": [
              "GridSearchCV(cv=StratifiedKFold(n_splits=7, random_state=None, shuffle=True),\n",
              "             estimator=Pipeline(steps=[('vect',\n",
              "                                        CountVectorizer(ngram_range=(1, 2))),\n",
              "                                       ('clf',\n",
              "                                        LogisticRegression(multi_class='ovr',\n",
              "                                                           random_state=40))]),\n",
              "             n_jobs=-1,\n",
              "             param_grid={'clf__C': [8, 9, 10, 12], 'clf__penalty': ['l2'],\n",
              "                         'clf__solver': ['newton-cg', 'saga', 'sag',\n",
              "                                         'linlinear']},\n",
              "             scoring='f1_weighted', verbose=1)"
            ],
            "text/html": [
              "<style>#sk-4ac97de1-df56-45df-b417-2cd24f7d574a {color: black;background-color: white;}#sk-4ac97de1-df56-45df-b417-2cd24f7d574a pre{padding: 0;}#sk-4ac97de1-df56-45df-b417-2cd24f7d574a div.sk-toggleable {background-color: white;}#sk-4ac97de1-df56-45df-b417-2cd24f7d574a label.sk-toggleable__label {cursor: pointer;display: block;width: 100%;margin-bottom: 0;padding: 0.3em;box-sizing: border-box;text-align: center;}#sk-4ac97de1-df56-45df-b417-2cd24f7d574a label.sk-toggleable__label-arrow:before {content: \"▸\";float: left;margin-right: 0.25em;color: #696969;}#sk-4ac97de1-df56-45df-b417-2cd24f7d574a label.sk-toggleable__label-arrow:hover:before {color: black;}#sk-4ac97de1-df56-45df-b417-2cd24f7d574a div.sk-estimator:hover label.sk-toggleable__label-arrow:before {color: black;}#sk-4ac97de1-df56-45df-b417-2cd24f7d574a div.sk-toggleable__content {max-height: 0;max-width: 0;overflow: hidden;text-align: left;background-color: #f0f8ff;}#sk-4ac97de1-df56-45df-b417-2cd24f7d574a div.sk-toggleable__content pre {margin: 0.2em;color: black;border-radius: 0.25em;background-color: #f0f8ff;}#sk-4ac97de1-df56-45df-b417-2cd24f7d574a input.sk-toggleable__control:checked~div.sk-toggleable__content {max-height: 200px;max-width: 100%;overflow: auto;}#sk-4ac97de1-df56-45df-b417-2cd24f7d574a input.sk-toggleable__control:checked~label.sk-toggleable__label-arrow:before {content: \"▾\";}#sk-4ac97de1-df56-45df-b417-2cd24f7d574a div.sk-estimator input.sk-toggleable__control:checked~label.sk-toggleable__label {background-color: #d4ebff;}#sk-4ac97de1-df56-45df-b417-2cd24f7d574a div.sk-label input.sk-toggleable__control:checked~label.sk-toggleable__label {background-color: #d4ebff;}#sk-4ac97de1-df56-45df-b417-2cd24f7d574a input.sk-hidden--visually {border: 0;clip: rect(1px 1px 1px 1px);clip: rect(1px, 1px, 1px, 1px);height: 1px;margin: -1px;overflow: hidden;padding: 0;position: absolute;width: 1px;}#sk-4ac97de1-df56-45df-b417-2cd24f7d574a div.sk-estimator {font-family: monospace;background-color: #f0f8ff;border: 1px dotted black;border-radius: 0.25em;box-sizing: border-box;margin-bottom: 0.5em;}#sk-4ac97de1-df56-45df-b417-2cd24f7d574a div.sk-estimator:hover {background-color: #d4ebff;}#sk-4ac97de1-df56-45df-b417-2cd24f7d574a div.sk-parallel-item::after {content: \"\";width: 100%;border-bottom: 1px solid gray;flex-grow: 1;}#sk-4ac97de1-df56-45df-b417-2cd24f7d574a div.sk-label:hover label.sk-toggleable__label {background-color: #d4ebff;}#sk-4ac97de1-df56-45df-b417-2cd24f7d574a div.sk-serial::before {content: \"\";position: absolute;border-left: 1px solid gray;box-sizing: border-box;top: 2em;bottom: 0;left: 50%;}#sk-4ac97de1-df56-45df-b417-2cd24f7d574a div.sk-serial {display: flex;flex-direction: column;align-items: center;background-color: white;padding-right: 0.2em;padding-left: 0.2em;}#sk-4ac97de1-df56-45df-b417-2cd24f7d574a div.sk-item {z-index: 1;}#sk-4ac97de1-df56-45df-b417-2cd24f7d574a div.sk-parallel {display: flex;align-items: stretch;justify-content: center;background-color: white;}#sk-4ac97de1-df56-45df-b417-2cd24f7d574a div.sk-parallel::before {content: \"\";position: absolute;border-left: 1px solid gray;box-sizing: border-box;top: 2em;bottom: 0;left: 50%;}#sk-4ac97de1-df56-45df-b417-2cd24f7d574a div.sk-parallel-item {display: flex;flex-direction: column;position: relative;background-color: white;}#sk-4ac97de1-df56-45df-b417-2cd24f7d574a div.sk-parallel-item:first-child::after {align-self: flex-end;width: 50%;}#sk-4ac97de1-df56-45df-b417-2cd24f7d574a div.sk-parallel-item:last-child::after {align-self: flex-start;width: 50%;}#sk-4ac97de1-df56-45df-b417-2cd24f7d574a div.sk-parallel-item:only-child::after {width: 0;}#sk-4ac97de1-df56-45df-b417-2cd24f7d574a div.sk-dashed-wrapped {border: 1px dashed gray;margin: 0 0.4em 0.5em 0.4em;box-sizing: border-box;padding-bottom: 0.4em;background-color: white;position: relative;}#sk-4ac97de1-df56-45df-b417-2cd24f7d574a div.sk-label label {font-family: monospace;font-weight: bold;background-color: white;display: inline-block;line-height: 1.2em;}#sk-4ac97de1-df56-45df-b417-2cd24f7d574a div.sk-label-container {position: relative;z-index: 2;text-align: center;}#sk-4ac97de1-df56-45df-b417-2cd24f7d574a div.sk-container {/* jupyter's `normalize.less` sets `[hidden] { display: none; }` but bootstrap.min.css set `[hidden] { display: none !important; }` so we also need the `!important` here to be able to override the default hidden behavior on the sphinx rendered scikit-learn.org. See: https://github.com/scikit-learn/scikit-learn/issues/21755 */display: inline-block !important;position: relative;}#sk-4ac97de1-df56-45df-b417-2cd24f7d574a div.sk-text-repr-fallback {display: none;}</style><div id=\"sk-4ac97de1-df56-45df-b417-2cd24f7d574a\" class=\"sk-top-container\"><div class=\"sk-text-repr-fallback\"><pre>GridSearchCV(cv=StratifiedKFold(n_splits=7, random_state=None, shuffle=True),\n",
              "             estimator=Pipeline(steps=[(&#x27;vect&#x27;,\n",
              "                                        CountVectorizer(ngram_range=(1, 2))),\n",
              "                                       (&#x27;clf&#x27;,\n",
              "                                        LogisticRegression(multi_class=&#x27;ovr&#x27;,\n",
              "                                                           random_state=40))]),\n",
              "             n_jobs=-1,\n",
              "             param_grid={&#x27;clf__C&#x27;: [8, 9, 10, 12], &#x27;clf__penalty&#x27;: [&#x27;l2&#x27;],\n",
              "                         &#x27;clf__solver&#x27;: [&#x27;newton-cg&#x27;, &#x27;saga&#x27;, &#x27;sag&#x27;,\n",
              "                                         &#x27;linlinear&#x27;]},\n",
              "             scoring=&#x27;f1_weighted&#x27;, verbose=1)</pre><b>Please rerun this cell to show the HTML repr or trust the notebook.</b></div><div class=\"sk-container\" hidden><div class=\"sk-item sk-dashed-wrapped\"><div class=\"sk-label-container\"><div class=\"sk-label sk-toggleable\"><input class=\"sk-toggleable__control sk-hidden--visually\" id=\"819a254b-3a64-443f-98d5-f95326c16743\" type=\"checkbox\" ><label for=\"819a254b-3a64-443f-98d5-f95326c16743\" class=\"sk-toggleable__label sk-toggleable__label-arrow\">GridSearchCV</label><div class=\"sk-toggleable__content\"><pre>GridSearchCV(cv=StratifiedKFold(n_splits=7, random_state=None, shuffle=True),\n",
              "             estimator=Pipeline(steps=[(&#x27;vect&#x27;,\n",
              "                                        CountVectorizer(ngram_range=(1, 2))),\n",
              "                                       (&#x27;clf&#x27;,\n",
              "                                        LogisticRegression(multi_class=&#x27;ovr&#x27;,\n",
              "                                                           random_state=40))]),\n",
              "             n_jobs=-1,\n",
              "             param_grid={&#x27;clf__C&#x27;: [8, 9, 10, 12], &#x27;clf__penalty&#x27;: [&#x27;l2&#x27;],\n",
              "                         &#x27;clf__solver&#x27;: [&#x27;newton-cg&#x27;, &#x27;saga&#x27;, &#x27;sag&#x27;,\n",
              "                                         &#x27;linlinear&#x27;]},\n",
              "             scoring=&#x27;f1_weighted&#x27;, verbose=1)</pre></div></div></div><div class=\"sk-parallel\"><div class=\"sk-parallel-item\"><div class=\"sk-item\"><div class=\"sk-serial\"><div class=\"sk-item\"><div class=\"sk-serial\"><div class=\"sk-item\"><div class=\"sk-estimator sk-toggleable\"><input class=\"sk-toggleable__control sk-hidden--visually\" id=\"3ab493b7-a136-4a8f-8ef6-5514e4c1509e\" type=\"checkbox\" ><label for=\"3ab493b7-a136-4a8f-8ef6-5514e4c1509e\" class=\"sk-toggleable__label sk-toggleable__label-arrow\">CountVectorizer</label><div class=\"sk-toggleable__content\"><pre>CountVectorizer(ngram_range=(1, 2))</pre></div></div></div><div class=\"sk-item\"><div class=\"sk-estimator sk-toggleable\"><input class=\"sk-toggleable__control sk-hidden--visually\" id=\"e569fbc4-5c12-4e0d-8a04-2fe445a968a5\" type=\"checkbox\" ><label for=\"e569fbc4-5c12-4e0d-8a04-2fe445a968a5\" class=\"sk-toggleable__label sk-toggleable__label-arrow\">LogisticRegression</label><div class=\"sk-toggleable__content\"><pre>LogisticRegression(multi_class=&#x27;ovr&#x27;, random_state=40)</pre></div></div></div></div></div></div></div></div></div></div></div></div>"
            ]
          },
          "metadata": {},
          "execution_count": 73
        }
      ]
    },
    {
      "cell_type": "code",
      "source": [
        "gs1.best_params_"
      ],
      "metadata": {
        "colab": {
          "base_uri": "https://localhost:8080/"
        },
        "id": "yKplhuuzdekp",
        "outputId": "efc38b46-5353-4372-b294-3e893dfbc418"
      },
      "execution_count": null,
      "outputs": [
        {
          "output_type": "execute_result",
          "data": {
            "text/plain": [
              "{'clf__C': 8, 'clf__penalty': 'l2', 'clf__solver': 'newton-cg'}"
            ]
          },
          "metadata": {},
          "execution_count": 74
        }
      ]
    },
    {
      "cell_type": "markdown",
      "source": [
        "#<CENTER> FINAL MODEL FOR HOUSE AND KITCHEN DATASET"
      ],
      "metadata": {
        "id": "ChoqH7NuE8ND"
      }
    },
    {
      "cell_type": "code",
      "source": [
        "pipeline_lr_cv = Pipeline([\n",
        "    ('vect', CountVectorizer(analyzer='word', ngram_range=(1, 2))),\n",
        "         ('clf', LogisticRegression(random_state=40,multi_class=\"ovr\",C=8,penalty=\"l2\",solver=\"newton-cg\",max_iter=500))\n",
        "])\n",
        "\n",
        "evaluation(pipeline_lr_cv)"
      ],
      "metadata": {
        "colab": {
          "base_uri": "https://localhost:8080/"
        },
        "id": "UBc83hbmFCSL",
        "outputId": "8b6498d2-94f1-4c5e-a01f-4fe31c9591b1"
      },
      "execution_count": null,
      "outputs": [
        {
          "output_type": "stream",
          "name": "stdout",
          "text": [
            "Accuracy on train 0.999881\n",
            "Accuracy on test 0.935000\n",
            "F1 Score 0.9355076803967983\n",
            "Precision Score 0.9360159124073015\n",
            "Recall Score 0.935\n"
          ]
        }
      ]
    },
    {
      "cell_type": "code",
      "source": [
        "prediction = pipeline_lr_cv.predict(['this is an amazing product'])\n",
        "print(prediction)"
      ],
      "metadata": {
        "id": "Jxm4kGKfM5CJ",
        "colab": {
          "base_uri": "https://localhost:8080/"
        },
        "outputId": "43524ca6-5e93-4bf8-a89a-1217e2a7663a"
      },
      "execution_count": null,
      "outputs": [
        {
          "output_type": "stream",
          "name": "stdout",
          "text": [
            "['Positive']\n"
          ]
        }
      ]
    },
    {
      "cell_type": "code",
      "source": [
        "def customer_review(pipeline):\n",
        "  review = input('Enter your review:')\n",
        "  result = pipeline.predict([str(review)])\n",
        "  if result == 'Positive':\n",
        "    print('\\033[1;32mThis review is Positive\\033[0m')\n",
        "  elif result == 'Neutral':\n",
        "    print('\\033[1;33mThis review is Neutral\\033[0m')\n",
        "  else:\n",
        "    print('\\033[1;31mThis review is Negative\\033[0m')\n",
        "  return result"
      ],
      "metadata": {
        "id": "Mmt_iHrJ10Hy"
      },
      "execution_count": null,
      "outputs": []
    },
    {
      "cell_type": "code",
      "source": [
        "customer_review(pipeline_lr_cv)"
      ],
      "metadata": {
        "colab": {
          "base_uri": "https://localhost:8080/"
        },
        "id": "M-OmMYS4ulED",
        "outputId": "532a1d31-2d20-46c1-e09e-13a34c4b5128"
      },
      "execution_count": null,
      "outputs": [
        {
          "output_type": "stream",
          "name": "stdout",
          "text": [
            "Enter your review:not satisfied\n",
            "\u001b[1;32mThis review is Positive\u001b[0m\n"
          ]
        },
        {
          "output_type": "execute_result",
          "data": {
            "text/plain": [
              "array(['Positive'], dtype=object)"
            ]
          },
          "metadata": {},
          "execution_count": 39
        }
      ]
    },
    {
      "cell_type": "markdown",
      "source": [
        "#<CENTER> FINAL MODEL FOR MUSIC DATASET"
      ],
      "metadata": {
        "id": "j_hxGpJyG1YU"
      }
    },
    {
      "cell_type": "code",
      "source": [
        "pipeline_svc_cv = Pipeline([\n",
        "    ('vect', CountVectorizer()),\n",
        "    ('pipeline_svc_cv',LinearSVC()),\n",
        "])\n",
        "\n",
        "evaluation(pipeline_svc_cv)"
      ],
      "metadata": {
        "id": "pay01OhuLcNW"
      },
      "execution_count": null,
      "outputs": []
    },
    {
      "cell_type": "code",
      "source": [
        "model = joblib.load('/content/sentiment_analysis_model.pkl')"
      ],
      "metadata": {
        "id": "JRT-SrbWww4C",
        "colab": {
          "base_uri": "https://localhost:8080/",
          "height": 171
        },
        "outputId": "6c90b978-e129-440c-96d8-e1e6ecb9f862"
      },
      "execution_count": null,
      "outputs": [
        {
          "output_type": "error",
          "ename": "NameError",
          "evalue": "ignored",
          "traceback": [
            "\u001b[0;31m---------------------------------------------------------------------------\u001b[0m",
            "\u001b[0;31mNameError\u001b[0m                                 Traceback (most recent call last)",
            "\u001b[0;32m<ipython-input-11-3eb1432a5118>\u001b[0m in \u001b[0;36m<module>\u001b[0;34m\u001b[0m\n\u001b[0;32m----> 1\u001b[0;31m \u001b[0mmodel\u001b[0m \u001b[0;34m=\u001b[0m \u001b[0mjoblib\u001b[0m\u001b[0;34m.\u001b[0m\u001b[0mload\u001b[0m\u001b[0;34m(\u001b[0m\u001b[0;34m'/content/sentiment_analysis_model.pkl'\u001b[0m\u001b[0;34m)\u001b[0m\u001b[0;34m\u001b[0m\u001b[0;34m\u001b[0m\u001b[0m\n\u001b[0m",
            "\u001b[0;31mNameError\u001b[0m: name 'joblib' is not defined"
          ]
        }
      ]
    },
    {
      "cell_type": "code",
      "source": [
        "pipeline_lr_cv = Pipeline([\n",
        "    ('vect', CountVectorizer(analyzer='word', ngram_range=(1, 2))),\n",
        "    ('clf', LogisticRegression(random_state=40,multi_class=\"ovr\",C=8,penalty=\"l2\",solver=\"newton-cg\",max_iter=500)),\n",
        "])\n",
        "\n",
        "# evaluation(pipeline_lr_cv)"
      ],
      "metadata": {
        "id": "JI3QT6SRFU2x"
      },
      "execution_count": null,
      "outputs": []
    },
    {
      "cell_type": "code",
      "source": [
        "from sklearn.model_selection import cross_val_score\n",
        "cross_val_score(pipeline_lr_cv,X,y,scoring='accuracy', cv=5)"
      ],
      "metadata": {
        "id": "C6-UUmX7leay"
      },
      "execution_count": null,
      "outputs": []
    },
    {
      "cell_type": "markdown",
      "source": [
        "# <CENTER> EXPORTING MODEL FOR DEPLOYMENT"
      ],
      "metadata": {
        "id": "GVoeYMoGpxoY"
      }
    },
    {
      "cell_type": "code",
      "source": [
        "!pip install joblib"
      ],
      "metadata": {
        "colab": {
          "base_uri": "https://localhost:8080/"
        },
        "id": "kNlccBL-qILc",
        "outputId": "f429b85e-3a46-4bbb-83f7-0c14e5a9bfe4"
      },
      "execution_count": null,
      "outputs": [
        {
          "output_type": "stream",
          "name": "stdout",
          "text": [
            "Looking in indexes: https://pypi.org/simple, https://us-python.pkg.dev/colab-wheels/public/simple/\n",
            "Requirement already satisfied: joblib in /usr/local/lib/python3.8/dist-packages (1.2.0)\n"
          ]
        }
      ]
    },
    {
      "cell_type": "code",
      "source": [
        "joblib.dump(pipeline_lr_cv, 'sentiment_analysis_model.pkl')"
      ],
      "metadata": {
        "id": "TKyl60ZMqFDA",
        "colab": {
          "base_uri": "https://localhost:8080/"
        },
        "outputId": "012d9090-3c3f-4b9e-d5bf-af017c99ebf9"
      },
      "execution_count": null,
      "outputs": [
        {
          "output_type": "execute_result",
          "data": {
            "text/plain": [
              "['sentiment_analysis_model.pkl']"
            ]
          },
          "metadata": {},
          "execution_count": 87
        }
      ]
    }
  ],
  "metadata": {
    "colab": {
      "collapsed_sections": [
        "Q8GGgiDXIE7T",
        "otZY0nd4IMDe",
        "pGJPgbC6ITRh",
        "b7g633N0Iia4",
        "of7XmOqyM1Su"
      ],
      "provenance": []
    },
    "kernelspec": {
      "display_name": "Python 3",
      "name": "python3"
    },
    "language_info": {
      "name": "python"
    },
    "gpuClass": "standard"
  },
  "nbformat": 4,
  "nbformat_minor": 0
}